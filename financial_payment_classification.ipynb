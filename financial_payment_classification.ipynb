{
 "cells": [
  {
   "attachments": {},
   "cell_type": "markdown",
   "id": "01b5c703",
   "metadata": {},
   "source": [
    "# SageMaker Payment Classification \n"
   ]
  },
  {
   "attachments": {},
   "cell_type": "markdown",
   "id": "c2e49281",
   "metadata": {},
   "source": [
    "\n",
    "## Background <a class=\"anchor\" id=\"Background\"></a>\n",
    "\n",
    "This notebook demonstrates how you can train and deploy a machine learning model to classify payment transactions. Enriching financial transactions with the category of the transaction. This can be used as an intermediate step in fraud detection, personalization or anomaly detection. As well as a method to provide end users (e.g. customers at a bank) with an overview of their spending habits. Amazon SageMaker can be used to train and deploy a XGBoost model, as well as the required underlying infrastructure. For this notebook a generated dataset is used where a payment consists of mostly an amount, sender, receiver and timestamp.\n",
    "\n",
    "\n",
    "## Notebook overview <a class=\"anchor\" id=\"Notebook-overview\"></a>\n",
    "\n",
    "This notebook consists of seven parts. First, we import and configure the required libraries. After that we prepare the data used in this example and create the feature store. With the newly created features we create a XGBoost model. An endpoint is created to host this model. We evaluate the performance of the model and end by cleaning up the used resources.\n",
    "\n",
    "## Dataset <a class=\"anchor\" id=\"Dataset\"></a>\n",
    "\n",
    "For this notebook we use a synthetic dataset. This dataset has the following features \n",
    "\n",
    "* __transaction_category__: The category of the transaction, this is one of the next 19 options.\n",
    "\n",
    "               'Uncategorized', 'Entertainment', 'Education',\n",
    "                    'Shopping', 'Personal Care', 'Health and Fitness',\n",
    "             'Food and Dining', 'Gifts and Donations', 'Investments',\n",
    "         'Bills and Utilities', 'Auto and Transport', 'Travel',\n",
    "            'Fees and Charges', 'Business Services', 'Personal Services',\n",
    "                       'Taxes', 'Gambling', 'Home',\n",
    "      'Pension and insurances'\n",
    "\n",
    "\n",
    "* __receiver_id__: an identifier for the receiving party. The identifier consist of 16 numbers.\n",
    "* __sender_id__: an identifier for the sending party. The identifier consist of 16 numbers.\n",
    "* __amount__: the amount which is transferred.\n",
    "* __timestamp__: the timestamp of the transaction in YYYY-MM-DD HH:MM:SS format.\n"
   ]
  },
  {
   "cell_type": "markdown",
   "id": "96ae0a64",
   "metadata": {},
   "source": [
    "## SageMaker"
   ]
  },
  {
   "cell_type": "markdown",
   "id": "0832ea14",
   "metadata": {},
   "source": [
    "\n",
    "### 1. Setup <a class=\"anchor\" id=\"Setup\"></a>\n",
    "\n",
    "Before we start we need to update the sagemaker library"
   ]
  },
  {
   "cell_type": "code",
   "execution_count": 1,
   "id": "fff19d6b",
   "metadata": {},
   "outputs": [],
   "source": [
    "# import sys\n",
    "\n",
    "# !{sys.executable} -m pip install --upgrade pip       --quiet # upgrade pip to the latest vesion\n",
    "# !{sys.executable} -m pip install --upgrade sagemaker --quiet # upgrade SageMaker to the latest vesion\n",
    "# !{sys.executable} -m pip install --upgrade mlrun --quiet # upgrade mlrun to the latest vesion\n",
    "# !{sys.executable} -m pip install --upgrade tarsafe --quiet # upgrade tarsafe to the latest vesion\n",
    "# !{sys.executable} -m pip install --upgrade aiobotocore --quiet # upgrade aiobotocore to the latest vesion"
   ]
  },
  {
   "attachments": {},
   "cell_type": "markdown",
   "id": "1b17a94d",
   "metadata": {},
   "source": [
    "Now that we have the latest version we can import the libraries that we'll use in this notebook"
   ]
  },
  {
   "cell_type": "code",
   "execution_count": 2,
   "id": "42c5d6d0",
   "metadata": {},
   "outputs": [
    {
     "name": "stderr",
     "output_type": "stream",
     "text": [
      "/home/ec2-user/anaconda3/envs/python3/lib/python3.10/site-packages/pydantic/_internal/_fields.py:172: UserWarning: Field name \"json\" in \"MonitoringDatasetFormat\" shadows an attribute in parent \"Base\"\n",
      "  warnings.warn(\n"
     ]
    },
    {
     "data": {
      "text/html": [
       "<pre style=\"white-space:pre;overflow-x:auto;line-height:normal;font-family:Menlo,'DejaVu Sans Mono',consolas,'Courier New',monospace\"><span style=\"color: #7fbfbf; text-decoration-color: #7fbfbf\">[05/29/25 18:36:10] </span><span style=\"color: #0069ff; text-decoration-color: #0069ff; font-weight: bold\">INFO    </span> Found credentials from IAM Role:                                   <a href=\"file:///home/ec2-user/anaconda3/envs/python3/lib/python3.10/site-packages/botocore/credentials.py\" target=\"_blank\"><span style=\"color: #7f7f7f; text-decoration-color: #7f7f7f\">credentials.py</span></a><span style=\"color: #7f7f7f; text-decoration-color: #7f7f7f\">:</span><a href=\"file:///home/ec2-user/anaconda3/envs/python3/lib/python3.10/site-packages/botocore/credentials.py#1132\" target=\"_blank\"><span style=\"color: #7f7f7f; text-decoration-color: #7f7f7f\">1132</span></a>\n",
       "<span style=\"color: #7fbfbf; text-decoration-color: #7fbfbf\">                    </span>         BaseNotebookInstanceEc2InstanceRole                                <span style=\"color: #7f7f7f; text-decoration-color: #7f7f7f\">                   </span>\n",
       "</pre>\n"
      ],
      "text/plain": [
       "\u001b[2;36m[05/29/25 18:36:10]\u001b[0m\u001b[2;36m \u001b[0m\u001b[1;38;2;0;105;255mINFO    \u001b[0m Found credentials from IAM Role:                                   \u001b]8;id=764676;file:///home/ec2-user/anaconda3/envs/python3/lib/python3.10/site-packages/botocore/credentials.py\u001b\\\u001b[2mcredentials.py\u001b[0m\u001b]8;;\u001b\\\u001b[2m:\u001b[0m\u001b]8;id=823274;file:///home/ec2-user/anaconda3/envs/python3/lib/python3.10/site-packages/botocore/credentials.py#1132\u001b\\\u001b[2m1132\u001b[0m\u001b]8;;\u001b\\\n",
       "\u001b[2;36m                    \u001b[0m         BaseNotebookInstanceEc2InstanceRole                                \u001b[2m                   \u001b[0m\n"
      ]
     },
     "metadata": {},
     "output_type": "display_data"
    },
    {
     "name": "stdout",
     "output_type": "stream",
     "text": [
      "sagemaker.config INFO - Not applying SDK defaults from location: /etc/xdg/sagemaker/config.yaml\n",
      "sagemaker.config INFO - Not applying SDK defaults from location: /home/ec2-user/.config/sagemaker/config.yaml\n"
     ]
    }
   ],
   "source": [
    "import boto3\n",
    "import sagemaker\n",
    "import time\n",
    "import os\n",
    "\n",
    "from time import sleep\n",
    "from sklearn.metrics import classification_report\n",
    "from sagemaker.feature_store.feature_group import FeatureGroup\n",
    "\n",
    "import pandas as pd\n",
    "import numpy as np"
   ]
  },
  {
   "attachments": {},
   "cell_type": "markdown",
   "id": "3af7c33d",
   "metadata": {},
   "source": [
    "Let's set the session variables to ensure that SageMaker is configured correctly."
   ]
  },
  {
   "cell_type": "code",
   "execution_count": 3,
   "id": "c0e4db17",
   "metadata": {},
   "outputs": [
    {
     "data": {
      "text/html": [
       "<pre style=\"white-space:pre;overflow-x:auto;line-height:normal;font-family:Menlo,'DejaVu Sans Mono',consolas,'Courier New',monospace\"><span style=\"color: #7fbfbf; text-decoration-color: #7fbfbf\">[05/29/25 18:36:11] </span><span style=\"color: #0069ff; text-decoration-color: #0069ff; font-weight: bold\">INFO    </span> Found credentials from IAM Role:                                   <a href=\"file:///home/ec2-user/anaconda3/envs/python3/lib/python3.10/site-packages/botocore/credentials.py\" target=\"_blank\"><span style=\"color: #7f7f7f; text-decoration-color: #7f7f7f\">credentials.py</span></a><span style=\"color: #7f7f7f; text-decoration-color: #7f7f7f\">:</span><a href=\"file:///home/ec2-user/anaconda3/envs/python3/lib/python3.10/site-packages/botocore/credentials.py#1132\" target=\"_blank\"><span style=\"color: #7f7f7f; text-decoration-color: #7f7f7f\">1132</span></a>\n",
       "<span style=\"color: #7fbfbf; text-decoration-color: #7fbfbf\">                    </span>         BaseNotebookInstanceEc2InstanceRole                                <span style=\"color: #7f7f7f; text-decoration-color: #7f7f7f\">                   </span>\n",
       "</pre>\n"
      ],
      "text/plain": [
       "\u001b[2;36m[05/29/25 18:36:11]\u001b[0m\u001b[2;36m \u001b[0m\u001b[1;38;2;0;105;255mINFO    \u001b[0m Found credentials from IAM Role:                                   \u001b]8;id=967391;file:///home/ec2-user/anaconda3/envs/python3/lib/python3.10/site-packages/botocore/credentials.py\u001b\\\u001b[2mcredentials.py\u001b[0m\u001b]8;;\u001b\\\u001b[2m:\u001b[0m\u001b]8;id=941402;file:///home/ec2-user/anaconda3/envs/python3/lib/python3.10/site-packages/botocore/credentials.py#1132\u001b\\\u001b[2m1132\u001b[0m\u001b]8;;\u001b\\\n",
       "\u001b[2;36m                    \u001b[0m         BaseNotebookInstanceEc2InstanceRole                                \u001b[2m                   \u001b[0m\n"
      ]
     },
     "metadata": {},
     "output_type": "display_data"
    },
    {
     "data": {
      "text/html": [
       "<pre style=\"white-space:pre;overflow-x:auto;line-height:normal;font-family:Menlo,'DejaVu Sans Mono',consolas,'Courier New',monospace\"><span style=\"color: #7fbfbf; text-decoration-color: #7fbfbf\">                    </span><span style=\"color: #0069ff; text-decoration-color: #0069ff; font-weight: bold\">INFO    </span> Found credentials from IAM Role:                                   <a href=\"file:///home/ec2-user/anaconda3/envs/python3/lib/python3.10/site-packages/botocore/credentials.py\" target=\"_blank\"><span style=\"color: #7f7f7f; text-decoration-color: #7f7f7f\">credentials.py</span></a><span style=\"color: #7f7f7f; text-decoration-color: #7f7f7f\">:</span><a href=\"file:///home/ec2-user/anaconda3/envs/python3/lib/python3.10/site-packages/botocore/credentials.py#1132\" target=\"_blank\"><span style=\"color: #7f7f7f; text-decoration-color: #7f7f7f\">1132</span></a>\n",
       "<span style=\"color: #7fbfbf; text-decoration-color: #7fbfbf\">                    </span>         BaseNotebookInstanceEc2InstanceRole                                <span style=\"color: #7f7f7f; text-decoration-color: #7f7f7f\">                   </span>\n",
       "</pre>\n"
      ],
      "text/plain": [
       "\u001b[2;36m                   \u001b[0m\u001b[2;36m \u001b[0m\u001b[1;38;2;0;105;255mINFO    \u001b[0m Found credentials from IAM Role:                                   \u001b]8;id=656224;file:///home/ec2-user/anaconda3/envs/python3/lib/python3.10/site-packages/botocore/credentials.py\u001b\\\u001b[2mcredentials.py\u001b[0m\u001b]8;;\u001b\\\u001b[2m:\u001b[0m\u001b]8;id=591157;file:///home/ec2-user/anaconda3/envs/python3/lib/python3.10/site-packages/botocore/credentials.py#1132\u001b\\\u001b[2m1132\u001b[0m\u001b]8;;\u001b\\\n",
       "\u001b[2;36m                    \u001b[0m         BaseNotebookInstanceEc2InstanceRole                                \u001b[2m                   \u001b[0m\n"
      ]
     },
     "metadata": {},
     "output_type": "display_data"
    },
    {
     "data": {
      "text/html": [
       "<pre style=\"white-space:pre;overflow-x:auto;line-height:normal;font-family:Menlo,'DejaVu Sans Mono',consolas,'Courier New',monospace\"><span style=\"color: #7fbfbf; text-decoration-color: #7fbfbf\">[05/29/25 18:36:12] </span><span style=\"color: #0069ff; text-decoration-color: #0069ff; font-weight: bold\">INFO    </span> Found credentials from IAM Role:                                   <a href=\"file:///home/ec2-user/anaconda3/envs/python3/lib/python3.10/site-packages/botocore/credentials.py\" target=\"_blank\"><span style=\"color: #7f7f7f; text-decoration-color: #7f7f7f\">credentials.py</span></a><span style=\"color: #7f7f7f; text-decoration-color: #7f7f7f\">:</span><a href=\"file:///home/ec2-user/anaconda3/envs/python3/lib/python3.10/site-packages/botocore/credentials.py#1132\" target=\"_blank\"><span style=\"color: #7f7f7f; text-decoration-color: #7f7f7f\">1132</span></a>\n",
       "<span style=\"color: #7fbfbf; text-decoration-color: #7fbfbf\">                    </span>         BaseNotebookInstanceEc2InstanceRole                                <span style=\"color: #7f7f7f; text-decoration-color: #7f7f7f\">                   </span>\n",
       "</pre>\n"
      ],
      "text/plain": [
       "\u001b[2;36m[05/29/25 18:36:12]\u001b[0m\u001b[2;36m \u001b[0m\u001b[1;38;2;0;105;255mINFO    \u001b[0m Found credentials from IAM Role:                                   \u001b]8;id=89114;file:///home/ec2-user/anaconda3/envs/python3/lib/python3.10/site-packages/botocore/credentials.py\u001b\\\u001b[2mcredentials.py\u001b[0m\u001b]8;;\u001b\\\u001b[2m:\u001b[0m\u001b]8;id=505505;file:///home/ec2-user/anaconda3/envs/python3/lib/python3.10/site-packages/botocore/credentials.py#1132\u001b\\\u001b[2m1132\u001b[0m\u001b]8;;\u001b\\\n",
       "\u001b[2;36m                    \u001b[0m         BaseNotebookInstanceEc2InstanceRole                                \u001b[2m                   \u001b[0m\n"
      ]
     },
     "metadata": {},
     "output_type": "display_data"
    }
   ],
   "source": [
    "region = sagemaker.Session().boto_region_name\n",
    "sm_client = boto3.client(\"sagemaker\")\n",
    "boto_session = boto3.Session(region_name=region)\n",
    "sagemaker_session = sagemaker.session.Session(boto_session=boto_session, sagemaker_client=sm_client)\n",
    "role = sagemaker.get_execution_role(use_default=True)\n",
    "bucket_prefix = \"payment-classification\"\n",
    "s3_bucket = sagemaker_session.default_bucket()"
   ]
  },
  {
   "attachments": {},
   "cell_type": "markdown",
   "id": "4fe6a975",
   "metadata": {},
   "source": [
    "We define the factorize key which is used to map the '__transaction_category__' to numeric values"
   ]
  },
  {
   "cell_type": "code",
   "execution_count": 4,
   "id": "43946b9f",
   "metadata": {},
   "outputs": [],
   "source": [
    "factorize_key = {\n",
    "    \"Uncategorized\": 0,\n",
    "    \"Entertainment\": 1,\n",
    "    \"Education\": 2,\n",
    "    \"Shopping\": 3,\n",
    "    \"Personal Care\": 4,\n",
    "    \"Health and Fitness\": 5,\n",
    "    \"Food and Dining\": 6,\n",
    "    \"Gifts and Donations\": 7,\n",
    "    \"Investments\": 8,\n",
    "    \"Bills and Utilities\": 9,\n",
    "    \"Auto and Transport\": 10,\n",
    "    \"Travel\": 11,\n",
    "    \"Fees and Charges\": 12,\n",
    "    \"Business Services\": 13,\n",
    "    \"Personal Services\": 14,\n",
    "    \"Taxes\": 15,\n",
    "    \"Gambling\": 16,\n",
    "    \"Home\": 17,\n",
    "    \"Pension and insurances\": 18,\n",
    "}\n",
    "\n",
    "factorize_key = {key: str(value) for key, value in factorize_key.items()}"
   ]
  },
  {
   "attachments": {},
   "cell_type": "markdown",
   "id": "5e3dc3c4",
   "metadata": {},
   "source": [
    "### 2. Data preparation <a class=\"anchor\" id=\"Data-preparation\"></a>\n",
    "\n",
    "We ingest the simulated data from the public SageMaker S3 training database:"
   ]
  },
  {
   "cell_type": "code",
   "execution_count": 5,
   "id": "5ff0d280",
   "metadata": {},
   "outputs": [],
   "source": [
    "s3 = boto3.client(\"s3\")\n",
    "s3.download_file(\n",
    "    f\"sagemaker-example-files-prod-{region}\",\n",
    "    \"datasets/tabular/synthetic_financial/financial_transactions_mini.csv\",\n",
    "    \"financial_transactions_mini.csv\",\n",
    ")"
   ]
  },
  {
   "attachments": {},
   "cell_type": "markdown",
   "id": "08578d93",
   "metadata": {},
   "source": [
    "Let's start by loading the dataset from our csv file into a Pandas dataframe"
   ]
  },
  {
   "cell_type": "code",
   "execution_count": 6,
   "id": "a477abd7",
   "metadata": {},
   "outputs": [
    {
     "name": "stderr",
     "output_type": "stream",
     "text": [
      "/tmp/ipykernel_10800/3317469573.py:1: FutureWarning: The argument 'infer_datetime_format' is deprecated and will be removed in a future version. A strict version of it is now the default, see https://pandas.pydata.org/pdeps/0004-consistent-to-datetime-parsing.html. You can safely remove this argument.\n",
      "  data = pd.read_csv(\n"
     ]
    }
   ],
   "source": [
    "data = pd.read_csv(\n",
    "    \"financial_transactions_mini.csv\",\n",
    "    parse_dates=[\"timestamp\"],\n",
    "    infer_datetime_format=True,\n",
    "    dtype={\"transaction_category\": \"string\"},\n",
    ")"
   ]
  },
  {
   "attachments": {},
   "cell_type": "markdown",
   "id": "cf6be447",
   "metadata": {},
   "source": [
    "The dataframe looks as follows:\n",
    "\n",
    "| | transaction_category | receiver_id | sender_id | amount | timestamp |\n",
    "|------:|:-----------------------|-----------------:|-----------------:|---------:|:--------------------|\n",
    "| 39733 | Shopping | 4258863736072564 | 4630246970548037 | 91.58 | 2021-03-10 01:28:23 |\n",
    "| 27254 | Shopping | 4356269497886716 | 4752313573239323 | 115.17 | 2021-01-22 23:28:24 |\n",
    "| 30628 | Shopping | 4233636409552058 | 4635766441812956 | 90.98 | 2021-02-05 03:24:10 |\n",
    "| 46614 | Shopping | 4054967431278644 | 4823810986511227 | 86.74 | 2021-04-02 14:42:45 |\n",
    "| 37957 | Shopping | 4831814582525664 | 4254514582909482 | 123.27 | 2021-03-17 11:17:18 |\n",
    "| 46878 | Shopping | 4425943481448900 | 4349267977109013 | 65.53 | 2021-03-17 15:47:49 |\n",
    "| 81350 | Auto and Transport | 4146116413442105 | 4062723166078919 | 91.67 | 2021-03-29 13:23:44 |\n",
    "| 10613 | Entertainment | 4788727923958282 | 4485838385631386 | 76.22 | 2021-02-11 17:45:53 |\n",
    "| 46715 | Shopping | 4702782703461430 | 4944181591271506 | 86.67 | 2021-03-20 15:37:17 |\n",
    "| 69110 | Investments | 4180233446952120 | 4702069426390603 | 530.39 | 2021-04-21 08:28:13 |"
   ]
  },
  {
   "cell_type": "code",
   "execution_count": 7,
   "id": "558fa01c",
   "metadata": {},
   "outputs": [
    {
     "data": {
      "text/html": [
       "<div>\n",
       "<style scoped>\n",
       "    .dataframe tbody tr th:only-of-type {\n",
       "        vertical-align: middle;\n",
       "    }\n",
       "\n",
       "    .dataframe tbody tr th {\n",
       "        vertical-align: top;\n",
       "    }\n",
       "\n",
       "    .dataframe thead th {\n",
       "        text-align: right;\n",
       "    }\n",
       "</style>\n",
       "<table border=\"1\" class=\"dataframe\">\n",
       "  <thead>\n",
       "    <tr style=\"text-align: right;\">\n",
       "      <th></th>\n",
       "      <th>transaction_category</th>\n",
       "      <th>receiver_id</th>\n",
       "      <th>sender_id</th>\n",
       "      <th>amount</th>\n",
       "      <th>timestamp</th>\n",
       "    </tr>\n",
       "  </thead>\n",
       "  <tbody>\n",
       "    <tr>\n",
       "      <th>94190</th>\n",
       "      <td>Business Services</td>\n",
       "      <td>4748520238612978</td>\n",
       "      <td>4023544152594497</td>\n",
       "      <td>150.30</td>\n",
       "      <td>2021-03-31 14:34:51</td>\n",
       "    </tr>\n",
       "    <tr>\n",
       "      <th>34468</th>\n",
       "      <td>Shopping</td>\n",
       "      <td>4279387685690858</td>\n",
       "      <td>4743716313396991</td>\n",
       "      <td>148.31</td>\n",
       "      <td>2021-03-08 08:31:27</td>\n",
       "    </tr>\n",
       "    <tr>\n",
       "      <th>79409</th>\n",
       "      <td>Auto and Transport</td>\n",
       "      <td>4464705149164415</td>\n",
       "      <td>4640629465503583</td>\n",
       "      <td>105.39</td>\n",
       "      <td>2021-03-09 12:33:16</td>\n",
       "    </tr>\n",
       "    <tr>\n",
       "      <th>44437</th>\n",
       "      <td>Shopping</td>\n",
       "      <td>4599999821537828</td>\n",
       "      <td>4152417567675115</td>\n",
       "      <td>65.03</td>\n",
       "      <td>2021-04-22 00:40:22</td>\n",
       "    </tr>\n",
       "    <tr>\n",
       "      <th>96970</th>\n",
       "      <td>Gambling</td>\n",
       "      <td>4673971169666849</td>\n",
       "      <td>4384014188635576</td>\n",
       "      <td>655.60</td>\n",
       "      <td>2021-03-27 19:06:29</td>\n",
       "    </tr>\n",
       "    <tr>\n",
       "      <th>33941</th>\n",
       "      <td>Shopping</td>\n",
       "      <td>4794614858353949</td>\n",
       "      <td>4918573576345739</td>\n",
       "      <td>99.37</td>\n",
       "      <td>2021-02-01 17:44:32</td>\n",
       "    </tr>\n",
       "    <tr>\n",
       "      <th>36188</th>\n",
       "      <td>Shopping</td>\n",
       "      <td>4125784896465623</td>\n",
       "      <td>4562770859699324</td>\n",
       "      <td>83.91</td>\n",
       "      <td>2021-01-27 22:56:03</td>\n",
       "    </tr>\n",
       "    <tr>\n",
       "      <th>47763</th>\n",
       "      <td>Shopping</td>\n",
       "      <td>4147376191903178</td>\n",
       "      <td>4906986495935535</td>\n",
       "      <td>83.21</td>\n",
       "      <td>2021-01-17 21:42:13</td>\n",
       "    </tr>\n",
       "    <tr>\n",
       "      <th>98088</th>\n",
       "      <td>Home</td>\n",
       "      <td>4857090165935716</td>\n",
       "      <td>4231009661405005</td>\n",
       "      <td>191.67</td>\n",
       "      <td>2021-04-12 07:58:23</td>\n",
       "    </tr>\n",
       "    <tr>\n",
       "      <th>88272</th>\n",
       "      <td>Auto and Transport</td>\n",
       "      <td>4060068103287070</td>\n",
       "      <td>4073954194553733</td>\n",
       "      <td>42.50</td>\n",
       "      <td>2021-03-01 16:55:08</td>\n",
       "    </tr>\n",
       "  </tbody>\n",
       "</table>\n",
       "</div>"
      ],
      "text/plain": [
       "      transaction_category       receiver_id         sender_id  amount  \\\n",
       "94190    Business Services  4748520238612978  4023544152594497  150.30   \n",
       "34468             Shopping  4279387685690858  4743716313396991  148.31   \n",
       "79409   Auto and Transport  4464705149164415  4640629465503583  105.39   \n",
       "44437             Shopping  4599999821537828  4152417567675115   65.03   \n",
       "96970             Gambling  4673971169666849  4384014188635576  655.60   \n",
       "33941             Shopping  4794614858353949  4918573576345739   99.37   \n",
       "36188             Shopping  4125784896465623  4562770859699324   83.91   \n",
       "47763             Shopping  4147376191903178  4906986495935535   83.21   \n",
       "98088                 Home  4857090165935716  4231009661405005  191.67   \n",
       "88272   Auto and Transport  4060068103287070  4073954194553733   42.50   \n",
       "\n",
       "                timestamp  \n",
       "94190 2021-03-31 14:34:51  \n",
       "34468 2021-03-08 08:31:27  \n",
       "79409 2021-03-09 12:33:16  \n",
       "44437 2021-04-22 00:40:22  \n",
       "96970 2021-03-27 19:06:29  \n",
       "33941 2021-02-01 17:44:32  \n",
       "36188 2021-01-27 22:56:03  \n",
       "47763 2021-01-17 21:42:13  \n",
       "98088 2021-04-12 07:58:23  \n",
       "88272 2021-03-01 16:55:08  "
      ]
     },
     "execution_count": 7,
     "metadata": {},
     "output_type": "execute_result"
    }
   ],
   "source": [
    "data.sample(10)"
   ]
  },
  {
   "attachments": {},
   "cell_type": "markdown",
   "id": "b5492919",
   "metadata": {},
   "source": [
    "Next, we extract the year, month, day, hour, minute, second from the timestamp and remove the timestamp"
   ]
  },
  {
   "cell_type": "code",
   "execution_count": 8,
   "id": "24f6090e",
   "metadata": {},
   "outputs": [],
   "source": [
    "data[\"year\"] = data[\"timestamp\"].dt.year\n",
    "data[\"month\"] = data[\"timestamp\"].dt.month\n",
    "data[\"day\"] = data[\"timestamp\"].dt.day\n",
    "data[\"hour\"] = data[\"timestamp\"].dt.hour\n",
    "data[\"minute\"] = data[\"timestamp\"].dt.minute\n",
    "data[\"second\"] = data[\"timestamp\"].dt.second\n",
    "\n",
    "del data[\"timestamp\"]"
   ]
  },
  {
   "attachments": {},
   "cell_type": "markdown",
   "id": "f7314f8a",
   "metadata": {},
   "source": [
    "We'll transform the transaction categories to numeric targets for the classification by factorization."
   ]
  },
  {
   "cell_type": "code",
   "execution_count": 9,
   "id": "ea2ebdd5",
   "metadata": {},
   "outputs": [],
   "source": [
    "data[\"transaction_category\"] = data[\"transaction_category\"].replace(factorize_key)"
   ]
  },
  {
   "attachments": {},
   "cell_type": "markdown",
   "id": "9b9ed583",
   "metadata": {},
   "source": [
    "### 3. Create feature store <a class=\"anchor\" id=\"Create-feature-store\"></a>\n",
    "\n",
    "To enrich dataset we will use the [Feature Store](https://aws.amazon.com/sagemaker/feature-store/). "
   ]
  },
  {
   "attachments": {},
   "cell_type": "markdown",
   "id": "233b862a",
   "metadata": {},
   "source": [
    "Before creating the feature store itself we need to set a name for the feature group and identifier used"
   ]
  },
  {
   "cell_type": "code",
   "execution_count": 10,
   "id": "9df53a9c",
   "metadata": {},
   "outputs": [],
   "source": [
    "feature_group_name = \"feature-group-payment-classification\"\n",
    "record_identifier_feature_name = \"identifier\""
   ]
  },
  {
   "attachments": {},
   "cell_type": "markdown",
   "id": "8d9b663f",
   "metadata": {},
   "source": [
    "With the name we defined we create the feature group, runtime and session"
   ]
  },
  {
   "cell_type": "code",
   "execution_count": 11,
   "id": "1aef7f91",
   "metadata": {},
   "outputs": [],
   "source": [
    "feature_group = FeatureGroup(name=feature_group_name, sagemaker_session=sagemaker_session)\n",
    "\n",
    "featurestore_runtime = boto_session.client(\n",
    "    service_name=\"sagemaker-featurestore-runtime\", region_name=region\n",
    ")\n",
    "\n",
    "feature_store_session = sagemaker.Session(\n",
    "    boto_session=boto_session,\n",
    "    sagemaker_client=sm_client,\n",
    "    sagemaker_featurestore_runtime_client=featurestore_runtime,\n",
    ")"
   ]
  },
  {
   "attachments": {},
   "cell_type": "markdown",
   "id": "3f3d69f5",
   "metadata": {},
   "source": [
    "Once we have defined our feature store we need to put some data in it. We create a Pandas dataframe with the columns mean_amount, count, identifier and event time to store in the feature store"
   ]
  },
  {
   "cell_type": "code",
   "execution_count": 12,
   "id": "a1a250da",
   "metadata": {},
   "outputs": [],
   "source": [
    "columns = [\"mean_amount\", \"count\", \"identifier\", \"EventTime\"]\n",
    "feature_store_data = pd.DataFrame(columns=columns, dtype=object)\n",
    "\n",
    "feature_store_data[\"identifier\"] = range(19)\n",
    "feature_store_data[\"mean_amount\"] = 0.0\n",
    "feature_store_data[\"count\"] = 1\n",
    "feature_store_data[\"EventTime\"] = time.time()"
   ]
  },
  {
   "attachments": {},
   "cell_type": "markdown",
   "id": "dea2565b",
   "metadata": {},
   "source": [
    "Using the created dataframe we set the feature definitions"
   ]
  },
  {
   "cell_type": "code",
   "execution_count": 13,
   "id": "292571c7",
   "metadata": {},
   "outputs": [
    {
     "data": {
      "text/plain": [
       "[FeatureDefinition(feature_name='mean_amount', feature_type=<FeatureTypeEnum.FRACTIONAL: 'Fractional'>, collection_type=None),\n",
       " FeatureDefinition(feature_name='count', feature_type=<FeatureTypeEnum.INTEGRAL: 'Integral'>, collection_type=None),\n",
       " FeatureDefinition(feature_name='identifier', feature_type=<FeatureTypeEnum.INTEGRAL: 'Integral'>, collection_type=None),\n",
       " FeatureDefinition(feature_name='EventTime', feature_type=<FeatureTypeEnum.FRACTIONAL: 'Fractional'>, collection_type=None)]"
      ]
     },
     "execution_count": 13,
     "metadata": {},
     "output_type": "execute_result"
    }
   ],
   "source": [
    "feature_group.load_feature_definitions(data_frame=feature_store_data)"
   ]
  },
  {
   "attachments": {},
   "cell_type": "markdown",
   "id": "2a845e07",
   "metadata": {},
   "source": [
    "With these definitions ready we can create the feature group itself"
   ]
  },
  {
   "cell_type": "code",
   "execution_count": 17,
   "id": "d046eeb4",
   "metadata": {},
   "outputs": [
    {
     "data": {
      "text/plain": [
       "{'FeatureGroupArn': 'arn:aws:sagemaker:us-east-2:934638699319:feature-group/feature-group-payment-classification',\n",
       " 'ResponseMetadata': {'RequestId': '22fe42f1-f670-464d-8369-02223939c29e',\n",
       "  'HTTPStatusCode': 200,\n",
       "  'HTTPHeaders': {'x-amzn-requestid': '22fe42f1-f670-464d-8369-02223939c29e',\n",
       "   'content-type': 'application/x-amz-json-1.1',\n",
       "   'content-length': '113',\n",
       "   'date': 'Thu, 29 May 2025 18:37:05 GMT'},\n",
       "  'RetryAttempts': 0}}"
      ]
     },
     "execution_count": 17,
     "metadata": {},
     "output_type": "execute_result"
    }
   ],
   "source": [
    "feature_group.create(\n",
    "    s3_uri=f\"s3://{s3_bucket}/{bucket_prefix}\",\n",
    "    record_identifier_name=record_identifier_feature_name,\n",
    "    event_time_feature_name=\"EventTime\",\n",
    "    role_arn=role,\n",
    "    enable_online_store=True,\n",
    ")"
   ]
  },
  {
   "attachments": {},
   "cell_type": "markdown",
   "id": "95ad73b1",
   "metadata": {},
   "source": [
    "It takes a couple of minutes for the feature group to be created, we need to wait for this to be done before trying to ingest data in the feature store"
   ]
  },
  {
   "cell_type": "code",
   "execution_count": 18,
   "id": "530865ec",
   "metadata": {},
   "outputs": [
    {
     "name": "stdout",
     "output_type": "stream",
     "text": [
      "Waiting for Feature Group to be Created\n",
      "Waiting for Feature Group to be Created\n",
      "Waiting for Feature Group to be Created\n",
      "FeatureGroup feature-group-payment-classification successfully created.\n"
     ]
    }
   ],
   "source": [
    "status = feature_group.describe().get(\"FeatureGroupStatus\")\n",
    "while status == \"Creating\":\n",
    "    print(\"Waiting for Feature Group to be Created\")\n",
    "    time.sleep(5)\n",
    "    status = feature_group.describe().get(\"FeatureGroupStatus\")\n",
    "print(f\"FeatureGroup {feature_group.name} successfully created.\")"
   ]
  },
  {
   "attachments": {},
   "cell_type": "markdown",
   "id": "3df88321",
   "metadata": {},
   "source": [
    "Once the feature group is created we can ingest data into it"
   ]
  },
  {
   "cell_type": "code",
   "execution_count": 19,
   "id": "8168ebd5",
   "metadata": {},
   "outputs": [
    {
     "data": {
      "text/plain": [
       "IngestionManagerPandas(feature_group_name='feature-group-payment-classification', feature_definitions={'mean_amount': {'FeatureName': 'mean_amount', 'FeatureType': 'Fractional'}, 'count': {'FeatureName': 'count', 'FeatureType': 'Integral'}, 'identifier': {'FeatureName': 'identifier', 'FeatureType': 'Integral'}, 'EventTime': {'FeatureName': 'EventTime', 'FeatureType': 'Fractional'}}, sagemaker_fs_runtime_client_config=<botocore.config.Config object at 0x7facc6f64190>, sagemaker_session=<sagemaker.session.Session object at 0x7fad0c2c5f90>, max_workers=3, max_processes=1, profile_name=None, _async_result=<multiprocess.pool.MapResult object at 0x7facc28aa170>, _processing_pool=<pool ProcessPool(ncpus=1)>, _failed_indices=[])"
      ]
     },
     "execution_count": 19,
     "metadata": {},
     "output_type": "execute_result"
    }
   ],
   "source": [
    "feature_group.ingest(data_frame=feature_store_data, max_workers=3, wait=True)"
   ]
  },
  {
   "attachments": {},
   "cell_type": "markdown",
   "id": "485d1906",
   "metadata": {},
   "source": [
    "To retrieve data from our feature store we define a function that gets the current values from the feature store"
   ]
  },
  {
   "cell_type": "code",
   "execution_count": 20,
   "id": "5f36a576",
   "metadata": {},
   "outputs": [],
   "source": [
    "def get_feature_store_values():\n",
    "    response = featurestore_runtime.batch_get_record(\n",
    "        Identifiers=[\n",
    "            {\n",
    "                \"FeatureGroupName\": feature_group_name,\n",
    "                \"RecordIdentifiersValueAsString\": [str(i) for i in range(19)],\n",
    "            }\n",
    "        ]\n",
    "    )\n",
    "\n",
    "    columns = [\"mean_amount\", \"count\", \"identifier\", \"EventTime\"]\n",
    "\n",
    "    feature_store_resp = pd.DataFrame(\n",
    "        data=[\n",
    "            [resp[\"Record\"][i][\"ValueAsString\"] for i in range(len(columns))]\n",
    "            for resp in response[\"Records\"]\n",
    "        ],\n",
    "        columns=columns,\n",
    "    )\n",
    "    feature_store_resp[\"identifier\"] = feature_store_resp[\"identifier\"].astype(int)\n",
    "    feature_store_resp[\"count\"] = feature_store_resp[\"count\"].astype(int)\n",
    "    feature_store_resp[\"mean_amount\"] = feature_store_resp[\"mean_amount\"].astype(float)\n",
    "    feature_store_resp[\"EventTime\"] = feature_store_resp[\"EventTime\"].astype(float)\n",
    "    feature_store_resp = feature_store_resp.sort_values(by=\"identifier\")\n",
    "\n",
    "    return feature_store_resp\n",
    "\n",
    "\n",
    "feature_store_resp = get_feature_store_values()"
   ]
  },
  {
   "attachments": {},
   "cell_type": "markdown",
   "id": "b5e4834e",
   "metadata": {},
   "source": [
    "We update the values in the feature store with the real values of our data"
   ]
  },
  {
   "cell_type": "code",
   "execution_count": 21,
   "id": "cb025e68",
   "metadata": {},
   "outputs": [
    {
     "data": {
      "text/plain": [
       "IngestionManagerPandas(feature_group_name='feature-group-payment-classification', feature_definitions={'mean_amount': {'FeatureName': 'mean_amount', 'FeatureType': 'Fractional'}, 'count': {'FeatureName': 'count', 'FeatureType': 'Integral'}, 'identifier': {'FeatureName': 'identifier', 'FeatureType': 'Integral'}, 'EventTime': {'FeatureName': 'EventTime', 'FeatureType': 'Fractional'}}, sagemaker_fs_runtime_client_config=<botocore.config.Config object at 0x7facc6f64190>, sagemaker_session=<sagemaker.session.Session object at 0x7fad0c2c5f90>, max_workers=3, max_processes=1, profile_name=None, _async_result=<multiprocess.pool.MapResult object at 0x7facc28abf10>, _processing_pool=<pool ProcessPool(ncpus=1)>, _failed_indices=[])"
      ]
     },
     "execution_count": 21,
     "metadata": {},
     "output_type": "execute_result"
    }
   ],
   "source": [
    "feature_store_data = pd.DataFrame()\n",
    "feature_store_data[\"mean_amount\"] = data.groupby([\"transaction_category\"]).mean()[\"amount\"]\n",
    "feature_store_data[\"count\"] = data.groupby([\"transaction_category\"]).count()[\"amount\"]\n",
    "feature_store_data[\"identifier\"] = feature_store_data.index\n",
    "feature_store_data[\"EventTime\"] = time.time()\n",
    "\n",
    "feature_store_data[\"mean_amount\"] = (\n",
    "    pd.concat([feature_store_resp, feature_store_data])\n",
    "    .groupby(\"identifier\")\n",
    "    .apply(lambda x: np.average(x[\"mean_amount\"], weights=x[\"count\"]))\n",
    ")\n",
    "feature_store_data[\"count\"] = (\n",
    "    pd.concat([feature_store_resp, feature_store_data]).groupby(\"identifier\").sum()[\"count\"]\n",
    ")\n",
    "\n",
    "feature_group.ingest(data_frame=feature_store_data, max_workers=3, wait=True)"
   ]
  },
  {
   "attachments": {},
   "cell_type": "markdown",
   "id": "e2f6395f",
   "metadata": {},
   "source": [
    "And display them after getting them from the feature store"
   ]
  },
  {
   "cell_type": "code",
   "execution_count": 22,
   "id": "10b23bf6",
   "metadata": {},
   "outputs": [
    {
     "data": {
      "text/html": [
       "<div>\n",
       "<style scoped>\n",
       "    .dataframe tbody tr th:only-of-type {\n",
       "        vertical-align: middle;\n",
       "    }\n",
       "\n",
       "    .dataframe tbody tr th {\n",
       "        vertical-align: top;\n",
       "    }\n",
       "\n",
       "    .dataframe thead th {\n",
       "        text-align: right;\n",
       "    }\n",
       "</style>\n",
       "<table border=\"1\" class=\"dataframe\">\n",
       "  <thead>\n",
       "    <tr style=\"text-align: right;\">\n",
       "      <th></th>\n",
       "      <th>mean_amount</th>\n",
       "      <th>count</th>\n",
       "      <th>identifier</th>\n",
       "      <th>EventTime</th>\n",
       "    </tr>\n",
       "  </thead>\n",
       "  <tbody>\n",
       "    <tr>\n",
       "      <th>2</th>\n",
       "      <td>495.837355</td>\n",
       "      <td>465</td>\n",
       "      <td>0</td>\n",
       "      <td>1.748544e+09</td>\n",
       "    </tr>\n",
       "    <tr>\n",
       "      <th>15</th>\n",
       "      <td>51.209382</td>\n",
       "      <td>14512</td>\n",
       "      <td>1</td>\n",
       "      <td>1.748544e+09</td>\n",
       "    </tr>\n",
       "    <tr>\n",
       "      <th>11</th>\n",
       "      <td>851.153495</td>\n",
       "      <td>744</td>\n",
       "      <td>2</td>\n",
       "      <td>1.748544e+09</td>\n",
       "    </tr>\n",
       "    <tr>\n",
       "      <th>14</th>\n",
       "      <td>100.917503</td>\n",
       "      <td>33953</td>\n",
       "      <td>3</td>\n",
       "      <td>1.748544e+09</td>\n",
       "    </tr>\n",
       "    <tr>\n",
       "      <th>5</th>\n",
       "      <td>31.504036</td>\n",
       "      <td>1209</td>\n",
       "      <td>4</td>\n",
       "      <td>1.748544e+09</td>\n",
       "    </tr>\n",
       "    <tr>\n",
       "      <th>8</th>\n",
       "      <td>119.596405</td>\n",
       "      <td>4837</td>\n",
       "      <td>5</td>\n",
       "      <td>1.748544e+09</td>\n",
       "    </tr>\n",
       "    <tr>\n",
       "      <th>4</th>\n",
       "      <td>93.249393</td>\n",
       "      <td>9674</td>\n",
       "      <td>6</td>\n",
       "      <td>1.748544e+09</td>\n",
       "    </tr>\n",
       "    <tr>\n",
       "      <th>16</th>\n",
       "      <td>51.072447</td>\n",
       "      <td>2791</td>\n",
       "      <td>7</td>\n",
       "      <td>1.748544e+09</td>\n",
       "    </tr>\n",
       "    <tr>\n",
       "      <th>17</th>\n",
       "      <td>6024.547484</td>\n",
       "      <td>930</td>\n",
       "      <td>8</td>\n",
       "      <td>1.748544e+09</td>\n",
       "    </tr>\n",
       "    <tr>\n",
       "      <th>10</th>\n",
       "      <td>114.779558</td>\n",
       "      <td>3349</td>\n",
       "      <td>9</td>\n",
       "      <td>1.748544e+09</td>\n",
       "    </tr>\n",
       "    <tr>\n",
       "      <th>7</th>\n",
       "      <td>100.977110</td>\n",
       "      <td>19349</td>\n",
       "      <td>10</td>\n",
       "      <td>1.748544e+09</td>\n",
       "    </tr>\n",
       "    <tr>\n",
       "      <th>9</th>\n",
       "      <td>351.807588</td>\n",
       "      <td>1302</td>\n",
       "      <td>11</td>\n",
       "      <td>1.748544e+09</td>\n",
       "    </tr>\n",
       "    <tr>\n",
       "      <th>0</th>\n",
       "      <td>26.950559</td>\n",
       "      <td>930</td>\n",
       "      <td>12</td>\n",
       "      <td>1.748544e+09</td>\n",
       "    </tr>\n",
       "    <tr>\n",
       "      <th>3</th>\n",
       "      <td>204.739197</td>\n",
       "      <td>1395</td>\n",
       "      <td>13</td>\n",
       "      <td>1.748544e+09</td>\n",
       "    </tr>\n",
       "    <tr>\n",
       "      <th>18</th>\n",
       "      <td>496.766086</td>\n",
       "      <td>930</td>\n",
       "      <td>14</td>\n",
       "      <td>1.748544e+09</td>\n",
       "    </tr>\n",
       "    <tr>\n",
       "      <th>12</th>\n",
       "      <td>2913.673247</td>\n",
       "      <td>465</td>\n",
       "      <td>15</td>\n",
       "      <td>1.748544e+09</td>\n",
       "    </tr>\n",
       "    <tr>\n",
       "      <th>13</th>\n",
       "      <td>375.228871</td>\n",
       "      <td>186</td>\n",
       "      <td>16</td>\n",
       "      <td>1.748544e+09</td>\n",
       "    </tr>\n",
       "    <tr>\n",
       "      <th>6</th>\n",
       "      <td>781.392199</td>\n",
       "      <td>1860</td>\n",
       "      <td>17</td>\n",
       "      <td>1.748544e+09</td>\n",
       "    </tr>\n",
       "    <tr>\n",
       "      <th>1</th>\n",
       "      <td>205.457151</td>\n",
       "      <td>1116</td>\n",
       "      <td>18</td>\n",
       "      <td>1.748544e+09</td>\n",
       "    </tr>\n",
       "  </tbody>\n",
       "</table>\n",
       "</div>"
      ],
      "text/plain": [
       "    mean_amount  count  identifier     EventTime\n",
       "2    495.837355    465           0  1.748544e+09\n",
       "15    51.209382  14512           1  1.748544e+09\n",
       "11   851.153495    744           2  1.748544e+09\n",
       "14   100.917503  33953           3  1.748544e+09\n",
       "5     31.504036   1209           4  1.748544e+09\n",
       "8    119.596405   4837           5  1.748544e+09\n",
       "4     93.249393   9674           6  1.748544e+09\n",
       "16    51.072447   2791           7  1.748544e+09\n",
       "17  6024.547484    930           8  1.748544e+09\n",
       "10   114.779558   3349           9  1.748544e+09\n",
       "7    100.977110  19349          10  1.748544e+09\n",
       "9    351.807588   1302          11  1.748544e+09\n",
       "0     26.950559    930          12  1.748544e+09\n",
       "3    204.739197   1395          13  1.748544e+09\n",
       "18   496.766086    930          14  1.748544e+09\n",
       "12  2913.673247    465          15  1.748544e+09\n",
       "13   375.228871    186          16  1.748544e+09\n",
       "6    781.392199   1860          17  1.748544e+09\n",
       "1    205.457151   1116          18  1.748544e+09"
      ]
     },
     "execution_count": 22,
     "metadata": {},
     "output_type": "execute_result"
    }
   ],
   "source": [
    "feature_store_data = get_feature_store_values()\n",
    "feature_store_data"
   ]
  },
  {
   "attachments": {},
   "cell_type": "markdown",
   "id": "cf148985",
   "metadata": {},
   "source": [
    "We use the feature store to calculate the distance between the average of every category and the current amount"
   ]
  },
  {
   "cell_type": "code",
   "execution_count": 23,
   "id": "4a3e85de",
   "metadata": {},
   "outputs": [
    {
     "data": {
      "text/html": [
       "<div>\n",
       "<style scoped>\n",
       "    .dataframe tbody tr th:only-of-type {\n",
       "        vertical-align: middle;\n",
       "    }\n",
       "\n",
       "    .dataframe tbody tr th {\n",
       "        vertical-align: top;\n",
       "    }\n",
       "\n",
       "    .dataframe thead th {\n",
       "        text-align: right;\n",
       "    }\n",
       "</style>\n",
       "<table border=\"1\" class=\"dataframe\">\n",
       "  <thead>\n",
       "    <tr style=\"text-align: right;\">\n",
       "      <th></th>\n",
       "      <th>transaction_category</th>\n",
       "      <th>receiver_id</th>\n",
       "      <th>sender_id</th>\n",
       "      <th>amount</th>\n",
       "      <th>year</th>\n",
       "      <th>month</th>\n",
       "      <th>day</th>\n",
       "      <th>hour</th>\n",
       "      <th>minute</th>\n",
       "      <th>second</th>\n",
       "      <th>...</th>\n",
       "      <th>9_dist</th>\n",
       "      <th>10_dist</th>\n",
       "      <th>11_dist</th>\n",
       "      <th>12_dist</th>\n",
       "      <th>13_dist</th>\n",
       "      <th>14_dist</th>\n",
       "      <th>15_dist</th>\n",
       "      <th>16_dist</th>\n",
       "      <th>17_dist</th>\n",
       "      <th>18_dist</th>\n",
       "    </tr>\n",
       "  </thead>\n",
       "  <tbody>\n",
       "    <tr>\n",
       "      <th>58779</th>\n",
       "      <td>6</td>\n",
       "      <td>4.411648e+15</td>\n",
       "      <td>4.121018e+15</td>\n",
       "      <td>292.91</td>\n",
       "      <td>2021.0</td>\n",
       "      <td>1.0</td>\n",
       "      <td>11.0</td>\n",
       "      <td>10.0</td>\n",
       "      <td>23.0</td>\n",
       "      <td>11.0</td>\n",
       "      <td>...</td>\n",
       "      <td>178.130442</td>\n",
       "      <td>191.93289</td>\n",
       "      <td>58.897588</td>\n",
       "      <td>265.959441</td>\n",
       "      <td>88.170803</td>\n",
       "      <td>203.856086</td>\n",
       "      <td>2620.763247</td>\n",
       "      <td>82.318871</td>\n",
       "      <td>488.482199</td>\n",
       "      <td>87.452849</td>\n",
       "    </tr>\n",
       "    <tr>\n",
       "      <th>67243</th>\n",
       "      <td>7</td>\n",
       "      <td>4.773225e+15</td>\n",
       "      <td>4.444914e+15</td>\n",
       "      <td>66.80</td>\n",
       "      <td>2021.0</td>\n",
       "      <td>2.0</td>\n",
       "      <td>7.0</td>\n",
       "      <td>0.0</td>\n",
       "      <td>10.0</td>\n",
       "      <td>57.0</td>\n",
       "      <td>...</td>\n",
       "      <td>47.979558</td>\n",
       "      <td>34.17711</td>\n",
       "      <td>285.007588</td>\n",
       "      <td>39.849441</td>\n",
       "      <td>137.939197</td>\n",
       "      <td>429.966086</td>\n",
       "      <td>2846.873247</td>\n",
       "      <td>308.428871</td>\n",
       "      <td>714.592199</td>\n",
       "      <td>138.657151</td>\n",
       "    </tr>\n",
       "    <tr>\n",
       "      <th>42123</th>\n",
       "      <td>3</td>\n",
       "      <td>4.600000e+15</td>\n",
       "      <td>4.199025e+15</td>\n",
       "      <td>46.25</td>\n",
       "      <td>2021.0</td>\n",
       "      <td>1.0</td>\n",
       "      <td>21.0</td>\n",
       "      <td>16.0</td>\n",
       "      <td>2.0</td>\n",
       "      <td>26.0</td>\n",
       "      <td>...</td>\n",
       "      <td>68.529558</td>\n",
       "      <td>54.72711</td>\n",
       "      <td>305.557588</td>\n",
       "      <td>19.299441</td>\n",
       "      <td>158.489197</td>\n",
       "      <td>450.516086</td>\n",
       "      <td>2867.423247</td>\n",
       "      <td>328.978871</td>\n",
       "      <td>735.142199</td>\n",
       "      <td>159.207151</td>\n",
       "    </tr>\n",
       "    <tr>\n",
       "      <th>18493</th>\n",
       "      <td>3</td>\n",
       "      <td>4.577051e+15</td>\n",
       "      <td>4.643030e+15</td>\n",
       "      <td>72.23</td>\n",
       "      <td>2021.0</td>\n",
       "      <td>2.0</td>\n",
       "      <td>3.0</td>\n",
       "      <td>6.0</td>\n",
       "      <td>26.0</td>\n",
       "      <td>42.0</td>\n",
       "      <td>...</td>\n",
       "      <td>42.549558</td>\n",
       "      <td>28.74711</td>\n",
       "      <td>279.577588</td>\n",
       "      <td>45.279441</td>\n",
       "      <td>132.509197</td>\n",
       "      <td>424.536086</td>\n",
       "      <td>2841.443247</td>\n",
       "      <td>302.998871</td>\n",
       "      <td>709.162199</td>\n",
       "      <td>133.227151</td>\n",
       "    </tr>\n",
       "    <tr>\n",
       "      <th>97469</th>\n",
       "      <td>17</td>\n",
       "      <td>4.658295e+15</td>\n",
       "      <td>4.929308e+15</td>\n",
       "      <td>883.29</td>\n",
       "      <td>2021.0</td>\n",
       "      <td>2.0</td>\n",
       "      <td>10.0</td>\n",
       "      <td>16.0</td>\n",
       "      <td>47.0</td>\n",
       "      <td>37.0</td>\n",
       "      <td>...</td>\n",
       "      <td>768.510442</td>\n",
       "      <td>782.31289</td>\n",
       "      <td>531.482412</td>\n",
       "      <td>856.339441</td>\n",
       "      <td>678.550803</td>\n",
       "      <td>386.523914</td>\n",
       "      <td>2030.383247</td>\n",
       "      <td>508.061129</td>\n",
       "      <td>101.897801</td>\n",
       "      <td>677.832849</td>\n",
       "    </tr>\n",
       "  </tbody>\n",
       "</table>\n",
       "<p>5 rows × 29 columns</p>\n",
       "</div>"
      ],
      "text/plain": [
       "      transaction_category   receiver_id     sender_id  amount    year  month  \\\n",
       "58779                    6  4.411648e+15  4.121018e+15  292.91  2021.0    1.0   \n",
       "67243                    7  4.773225e+15  4.444914e+15   66.80  2021.0    2.0   \n",
       "42123                    3  4.600000e+15  4.199025e+15   46.25  2021.0    1.0   \n",
       "18493                    3  4.577051e+15  4.643030e+15   72.23  2021.0    2.0   \n",
       "97469                   17  4.658295e+15  4.929308e+15  883.29  2021.0    2.0   \n",
       "\n",
       "        day  hour  minute  second  ...      9_dist    10_dist     11_dist  \\\n",
       "58779  11.0  10.0    23.0    11.0  ...  178.130442  191.93289   58.897588   \n",
       "67243   7.0   0.0    10.0    57.0  ...   47.979558   34.17711  285.007588   \n",
       "42123  21.0  16.0     2.0    26.0  ...   68.529558   54.72711  305.557588   \n",
       "18493   3.0   6.0    26.0    42.0  ...   42.549558   28.74711  279.577588   \n",
       "97469  10.0  16.0    47.0    37.0  ...  768.510442  782.31289  531.482412   \n",
       "\n",
       "          12_dist     13_dist     14_dist      15_dist     16_dist  \\\n",
       "58779  265.959441   88.170803  203.856086  2620.763247   82.318871   \n",
       "67243   39.849441  137.939197  429.966086  2846.873247  308.428871   \n",
       "42123   19.299441  158.489197  450.516086  2867.423247  328.978871   \n",
       "18493   45.279441  132.509197  424.536086  2841.443247  302.998871   \n",
       "97469  856.339441  678.550803  386.523914  2030.383247  508.061129   \n",
       "\n",
       "          17_dist     18_dist  \n",
       "58779  488.482199   87.452849  \n",
       "67243  714.592199  138.657151  \n",
       "42123  735.142199  159.207151  \n",
       "18493  709.162199  133.227151  \n",
       "97469  101.897801  677.832849  \n",
       "\n",
       "[5 rows x 29 columns]"
      ]
     },
     "execution_count": 23,
     "metadata": {},
     "output_type": "execute_result"
    }
   ],
   "source": [
    "additional_features = pd.pivot_table(\n",
    "    feature_store_data, values=[\"mean_amount\"], index=[\"identifier\"]\n",
    ").T.add_suffix(\"_dist\")\n",
    "additional_features_columns = list(additional_features.columns)\n",
    "data = pd.concat([data, pd.DataFrame(columns=additional_features_columns, dtype=object)])\n",
    "data[additional_features_columns] = additional_features.values[0]\n",
    "for col in additional_features_columns:\n",
    "    data[col] = abs(data[col] - data[\"amount\"])\n",
    "\n",
    "data.sample(5)"
   ]
  },
  {
   "attachments": {},
   "cell_type": "markdown",
   "id": "289eeca6",
   "metadata": {},
   "source": [
    "### 4. Create model <a class=\"anchor\" id=\"Create-model\"></a>\n",
    "In this notebook we will be using the [Extreme Gradient Boosting](https://docs.aws.amazon.com/sagemaker/latest/dg/xgboost.html) (XGBoost) implementation of the gradient boosted trees algorithm. This model is selected due to it relatively fast training time and explainable properties. The model can be substituted at will a different [SageMaker estimator](https://sagemaker.readthedocs.io/en/stable/api/training/estimators.html) or a [model of your choosing](https://aws.amazon.com/blogs/machine-learning/bring-your-own-model-with-amazon-sagemaker-script-mode/).\n",
    "\n",
    "\n",
    "\n",
    "Now that we have the dataset we can start preparing the model. First, we create a training, validation and testing split."
   ]
  },
  {
   "cell_type": "code",
   "execution_count": 24,
   "id": "bb4bdd8d",
   "metadata": {},
   "outputs": [
    {
     "name": "stderr",
     "output_type": "stream",
     "text": [
      "/home/ec2-user/anaconda3/envs/python3/lib/python3.10/site-packages/numpy/core/fromnumeric.py:59: FutureWarning: 'DataFrame.swapaxes' is deprecated and will be removed in a future version. Please use 'DataFrame.transpose' instead.\n",
      "  return bound(*args, **kwds)\n"
     ]
    }
   ],
   "source": [
    "# Randomly sort the data then split out first 70%, second 20%, and last 10%\n",
    "train_data, validation_data, test_data = np.split(\n",
    "    data.sample(frac=1, random_state=42), [int(0.7 * len(data)), int(0.9 * len(data))]\n",
    ")"
   ]
  },
  {
   "attachments": {},
   "cell_type": "markdown",
   "id": "f81f65b9",
   "metadata": {},
   "source": [
    "We save these sets to a file."
   ]
  },
  {
   "cell_type": "code",
   "execution_count": 25,
   "id": "f849a7a9",
   "metadata": {},
   "outputs": [],
   "source": [
    "train_data.to_csv(\"train.csv\", index=False, header=False)\n",
    "validation_data.to_csv(\"validation.csv\", index=False, header=False)\n",
    "test_data.to_csv(\"test.csv\", index=False, header=True)"
   ]
  },
  {
   "attachments": {},
   "cell_type": "markdown",
   "id": "de669936",
   "metadata": {},
   "source": [
    "And upload these files to our s3 bucket"
   ]
  },
  {
   "cell_type": "code",
   "execution_count": 26,
   "id": "e1ca2543",
   "metadata": {},
   "outputs": [
    {
     "data": {
      "text/html": [
       "<pre style=\"white-space:pre;overflow-x:auto;line-height:normal;font-family:Menlo,'DejaVu Sans Mono',consolas,'Courier New',monospace\"><span style=\"color: #7fbfbf; text-decoration-color: #7fbfbf\">[05/29/25 18:37:30] </span><span style=\"color: #0069ff; text-decoration-color: #0069ff; font-weight: bold\">INFO    </span> Found credentials from IAM Role:                                   <a href=\"file:///home/ec2-user/anaconda3/envs/python3/lib/python3.10/site-packages/botocore/credentials.py\" target=\"_blank\"><span style=\"color: #7f7f7f; text-decoration-color: #7f7f7f\">credentials.py</span></a><span style=\"color: #7f7f7f; text-decoration-color: #7f7f7f\">:</span><a href=\"file:///home/ec2-user/anaconda3/envs/python3/lib/python3.10/site-packages/botocore/credentials.py#1132\" target=\"_blank\"><span style=\"color: #7f7f7f; text-decoration-color: #7f7f7f\">1132</span></a>\n",
       "<span style=\"color: #7fbfbf; text-decoration-color: #7fbfbf\">                    </span>         BaseNotebookInstanceEc2InstanceRole                                <span style=\"color: #7f7f7f; text-decoration-color: #7f7f7f\">                   </span>\n",
       "</pre>\n"
      ],
      "text/plain": [
       "\u001b[2;36m[05/29/25 18:37:30]\u001b[0m\u001b[2;36m \u001b[0m\u001b[1;38;2;0;105;255mINFO    \u001b[0m Found credentials from IAM Role:                                   \u001b]8;id=42032;file:///home/ec2-user/anaconda3/envs/python3/lib/python3.10/site-packages/botocore/credentials.py\u001b\\\u001b[2mcredentials.py\u001b[0m\u001b]8;;\u001b\\\u001b[2m:\u001b[0m\u001b]8;id=894407;file:///home/ec2-user/anaconda3/envs/python3/lib/python3.10/site-packages/botocore/credentials.py#1132\u001b\\\u001b[2m1132\u001b[0m\u001b]8;;\u001b\\\n",
       "\u001b[2;36m                    \u001b[0m         BaseNotebookInstanceEc2InstanceRole                                \u001b[2m                   \u001b[0m\n"
      ]
     },
     "metadata": {},
     "output_type": "display_data"
    },
    {
     "data": {
      "text/html": [
       "<pre style=\"white-space:pre;overflow-x:auto;line-height:normal;font-family:Menlo,'DejaVu Sans Mono',consolas,'Courier New',monospace\"><span style=\"color: #7fbfbf; text-decoration-color: #7fbfbf\">[05/29/25 18:37:31] </span><span style=\"color: #0069ff; text-decoration-color: #0069ff; font-weight: bold\">INFO    </span> Found credentials from IAM Role:                                   <a href=\"file:///home/ec2-user/anaconda3/envs/python3/lib/python3.10/site-packages/botocore/credentials.py\" target=\"_blank\"><span style=\"color: #7f7f7f; text-decoration-color: #7f7f7f\">credentials.py</span></a><span style=\"color: #7f7f7f; text-decoration-color: #7f7f7f\">:</span><a href=\"file:///home/ec2-user/anaconda3/envs/python3/lib/python3.10/site-packages/botocore/credentials.py#1132\" target=\"_blank\"><span style=\"color: #7f7f7f; text-decoration-color: #7f7f7f\">1132</span></a>\n",
       "<span style=\"color: #7fbfbf; text-decoration-color: #7fbfbf\">                    </span>         BaseNotebookInstanceEc2InstanceRole                                <span style=\"color: #7f7f7f; text-decoration-color: #7f7f7f\">                   </span>\n",
       "</pre>\n"
      ],
      "text/plain": [
       "\u001b[2;36m[05/29/25 18:37:31]\u001b[0m\u001b[2;36m \u001b[0m\u001b[1;38;2;0;105;255mINFO    \u001b[0m Found credentials from IAM Role:                                   \u001b]8;id=975372;file:///home/ec2-user/anaconda3/envs/python3/lib/python3.10/site-packages/botocore/credentials.py\u001b\\\u001b[2mcredentials.py\u001b[0m\u001b]8;;\u001b\\\u001b[2m:\u001b[0m\u001b]8;id=750370;file:///home/ec2-user/anaconda3/envs/python3/lib/python3.10/site-packages/botocore/credentials.py#1132\u001b\\\u001b[2m1132\u001b[0m\u001b]8;;\u001b\\\n",
       "\u001b[2;36m                    \u001b[0m         BaseNotebookInstanceEc2InstanceRole                                \u001b[2m                   \u001b[0m\n"
      ]
     },
     "metadata": {},
     "output_type": "display_data"
    },
    {
     "data": {
      "text/html": [
       "<pre style=\"white-space:pre;overflow-x:auto;line-height:normal;font-family:Menlo,'DejaVu Sans Mono',consolas,'Courier New',monospace\"><span style=\"color: #7fbfbf; text-decoration-color: #7fbfbf\">                    </span><span style=\"color: #0069ff; text-decoration-color: #0069ff; font-weight: bold\">INFO    </span> Found credentials from IAM Role:                                   <a href=\"file:///home/ec2-user/anaconda3/envs/python3/lib/python3.10/site-packages/botocore/credentials.py\" target=\"_blank\"><span style=\"color: #7f7f7f; text-decoration-color: #7f7f7f\">credentials.py</span></a><span style=\"color: #7f7f7f; text-decoration-color: #7f7f7f\">:</span><a href=\"file:///home/ec2-user/anaconda3/envs/python3/lib/python3.10/site-packages/botocore/credentials.py#1132\" target=\"_blank\"><span style=\"color: #7f7f7f; text-decoration-color: #7f7f7f\">1132</span></a>\n",
       "<span style=\"color: #7fbfbf; text-decoration-color: #7fbfbf\">                    </span>         BaseNotebookInstanceEc2InstanceRole                                <span style=\"color: #7f7f7f; text-decoration-color: #7f7f7f\">                   </span>\n",
       "</pre>\n"
      ],
      "text/plain": [
       "\u001b[2;36m                   \u001b[0m\u001b[2;36m \u001b[0m\u001b[1;38;2;0;105;255mINFO    \u001b[0m Found credentials from IAM Role:                                   \u001b]8;id=392529;file:///home/ec2-user/anaconda3/envs/python3/lib/python3.10/site-packages/botocore/credentials.py\u001b\\\u001b[2mcredentials.py\u001b[0m\u001b]8;;\u001b\\\u001b[2m:\u001b[0m\u001b]8;id=952905;file:///home/ec2-user/anaconda3/envs/python3/lib/python3.10/site-packages/botocore/credentials.py#1132\u001b\\\u001b[2m1132\u001b[0m\u001b]8;;\u001b\\\n",
       "\u001b[2;36m                    \u001b[0m         BaseNotebookInstanceEc2InstanceRole                                \u001b[2m                   \u001b[0m\n"
      ]
     },
     "metadata": {},
     "output_type": "display_data"
    }
   ],
   "source": [
    "boto3.Session().resource(\"s3\").Bucket(s3_bucket).Object(\n",
    "    os.path.join(bucket_prefix, \"train/train.csv\")\n",
    ").upload_file(\"train.csv\")\n",
    "boto3.Session().resource(\"s3\").Bucket(s3_bucket).Object(\n",
    "    os.path.join(bucket_prefix, \"validation/validation.csv\")\n",
    ").upload_file(\"validation.csv\")\n",
    "boto3.Session().resource(\"s3\").Bucket(s3_bucket).Object(\n",
    "    os.path.join(bucket_prefix, \"test/test.csv\")\n",
    ").upload_file(\"test.csv\")"
   ]
  },
  {
   "attachments": {},
   "cell_type": "markdown",
   "id": "22de532f",
   "metadata": {},
   "source": [
    "Get the XGBoost sagemaker image"
   ]
  },
  {
   "cell_type": "code",
   "execution_count": 27,
   "id": "a41b6a7d",
   "metadata": {},
   "outputs": [
    {
     "data": {
      "text/html": [
       "<pre style=\"white-space:pre;overflow-x:auto;line-height:normal;font-family:Menlo,'DejaVu Sans Mono',consolas,'Courier New',monospace\"><span style=\"color: #7fbfbf; text-decoration-color: #7fbfbf\">[05/29/25 18:37:32] </span><span style=\"color: #0069ff; text-decoration-color: #0069ff; font-weight: bold\">INFO    </span> Ignoring unnecessary instance type: <span style=\"color: #e100e1; text-decoration-color: #e100e1; font-style: italic\">None</span>.                            <a href=\"file:///home/ec2-user/anaconda3/envs/python3/lib/python3.10/site-packages/sagemaker/image_uris.py\" target=\"_blank\"><span style=\"color: #7f7f7f; text-decoration-color: #7f7f7f\">image_uris.py</span></a><span style=\"color: #7f7f7f; text-decoration-color: #7f7f7f\">:</span><a href=\"file:///home/ec2-user/anaconda3/envs/python3/lib/python3.10/site-packages/sagemaker/image_uris.py#530\" target=\"_blank\"><span style=\"color: #7f7f7f; text-decoration-color: #7f7f7f\">530</span></a>\n",
       "</pre>\n"
      ],
      "text/plain": [
       "\u001b[2;36m[05/29/25 18:37:32]\u001b[0m\u001b[2;36m \u001b[0m\u001b[1;38;2;0;105;255mINFO    \u001b[0m Ignoring unnecessary instance type: \u001b[3;38;2;225;0;225mNone\u001b[0m.                            \u001b]8;id=162995;file:///home/ec2-user/anaconda3/envs/python3/lib/python3.10/site-packages/sagemaker/image_uris.py\u001b\\\u001b[2mimage_uris.py\u001b[0m\u001b]8;;\u001b\\\u001b[2m:\u001b[0m\u001b]8;id=304519;file:///home/ec2-user/anaconda3/envs/python3/lib/python3.10/site-packages/sagemaker/image_uris.py#530\u001b\\\u001b[2m530\u001b[0m\u001b]8;;\u001b\\\n"
      ]
     },
     "metadata": {},
     "output_type": "display_data"
    }
   ],
   "source": [
    "container = sagemaker.image_uris.retrieve(region=region, framework=\"xgboost\", version=\"1.2-2\")"
   ]
  },
  {
   "attachments": {},
   "cell_type": "markdown",
   "id": "66cae2a9",
   "metadata": {},
   "source": [
    "Transform our data to a sagemaker input for training"
   ]
  },
  {
   "cell_type": "code",
   "execution_count": 28,
   "id": "e51c917a",
   "metadata": {},
   "outputs": [],
   "source": [
    "s3_input_train = sagemaker.inputs.TrainingInput(\n",
    "    s3_data=\"s3://{}/{}/train\".format(s3_bucket, bucket_prefix), content_type=\"csv\"\n",
    ")\n",
    "s3_input_validation = sagemaker.inputs.TrainingInput(\n",
    "    s3_data=\"s3://{}/{}/validation/\".format(s3_bucket, bucket_prefix), content_type=\"csv\"\n",
    ")"
   ]
  },
  {
   "attachments": {},
   "cell_type": "markdown",
   "id": "6f2985d8",
   "metadata": {},
   "source": [
    "We define the XGBoost model"
   ]
  },
  {
   "cell_type": "code",
   "execution_count": 29,
   "id": "92c1fe8c",
   "metadata": {},
   "outputs": [],
   "source": [
    "xgb = sagemaker.estimator.Estimator(\n",
    "    container,\n",
    "    role,\n",
    "    instance_count=1,\n",
    "    instance_type=\"ml.m4.xlarge\",\n",
    "    output_path=\"s3://{}/{}/output\".format(s3_bucket, bucket_prefix),\n",
    "    sagemaker_session=sagemaker_session,\n",
    ")"
   ]
  },
  {
   "attachments": {},
   "cell_type": "markdown",
   "id": "ecafdfe8",
   "metadata": {},
   "source": [
    "Set the parameters"
   ]
  },
  {
   "cell_type": "code",
   "execution_count": 30,
   "id": "582adc6c",
   "metadata": {},
   "outputs": [],
   "source": [
    "xgb.set_hyperparameters(\n",
    "    max_depth=5,\n",
    "    eta=0.2,\n",
    "    gamma=4,\n",
    "    min_child_weight=6,\n",
    "    subsample=0.8,\n",
    "    objective=\"multi:softprob\",\n",
    "    num_class=19,\n",
    "    verbosity=0,\n",
    "    num_round=100,\n",
    ")"
   ]
  },
  {
   "attachments": {},
   "cell_type": "markdown",
   "id": "b36463dd",
   "metadata": {},
   "source": [
    "And train the model"
   ]
  },
  {
   "cell_type": "code",
   "execution_count": 31,
   "id": "c24e06fc",
   "metadata": {
    "scrolled": true
   },
   "outputs": [
    {
     "data": {
      "text/html": [
       "<pre style=\"white-space:pre;overflow-x:auto;line-height:normal;font-family:Menlo,'DejaVu Sans Mono',consolas,'Courier New',monospace\"><span style=\"color: #7fbfbf; text-decoration-color: #7fbfbf\">                    </span><span style=\"color: #0069ff; text-decoration-color: #0069ff; font-weight: bold\">INFO    </span> SageMaker Python SDK will collect telemetry to help us better  <a href=\"file:///home/ec2-user/anaconda3/envs/python3/lib/python3.10/site-packages/sagemaker/telemetry/telemetry_logging.py\" target=\"_blank\"><span style=\"color: #7f7f7f; text-decoration-color: #7f7f7f\">telemetry_logging.py</span></a><span style=\"color: #7f7f7f; text-decoration-color: #7f7f7f\">:</span><a href=\"file:///home/ec2-user/anaconda3/envs/python3/lib/python3.10/site-packages/sagemaker/telemetry/telemetry_logging.py#91\" target=\"_blank\"><span style=\"color: #7f7f7f; text-decoration-color: #7f7f7f\">91</span></a>\n",
       "<span style=\"color: #7fbfbf; text-decoration-color: #7fbfbf\">                    </span>         understand our user's needs, diagnose issues, and deliver      <span style=\"color: #7f7f7f; text-decoration-color: #7f7f7f\">                       </span>\n",
       "<span style=\"color: #7fbfbf; text-decoration-color: #7fbfbf\">                    </span>         additional features.                                           <span style=\"color: #7f7f7f; text-decoration-color: #7f7f7f\">                       </span>\n",
       "<span style=\"color: #7fbfbf; text-decoration-color: #7fbfbf\">                    </span>         To opt out of telemetry, please disable via TelemetryOptOut    <span style=\"color: #7f7f7f; text-decoration-color: #7f7f7f\">                       </span>\n",
       "<span style=\"color: #7fbfbf; text-decoration-color: #7fbfbf\">                    </span>         parameter in SDK defaults config. For more information, refer  <span style=\"color: #7f7f7f; text-decoration-color: #7f7f7f\">                       </span>\n",
       "<span style=\"color: #7fbfbf; text-decoration-color: #7fbfbf\">                    </span>         to                                                             <span style=\"color: #7f7f7f; text-decoration-color: #7f7f7f\">                       </span>\n",
       "<span style=\"color: #7fbfbf; text-decoration-color: #7fbfbf\">                    </span>         <span style=\"color: #0069ff; text-decoration-color: #0069ff; text-decoration: underline\">https://sagemaker.readthedocs.io/en/stable/overview.html#confi</span> <span style=\"color: #7f7f7f; text-decoration-color: #7f7f7f\">                       </span>\n",
       "<span style=\"color: #7fbfbf; text-decoration-color: #7fbfbf\">                    </span>         <span style=\"color: #0069ff; text-decoration-color: #0069ff; text-decoration: underline\">guring-and-using-defaults-with-the-sagemaker-python-sdk.</span>       <span style=\"color: #7f7f7f; text-decoration-color: #7f7f7f\">                       </span>\n",
       "</pre>\n"
      ],
      "text/plain": [
       "\u001b[2;36m                   \u001b[0m\u001b[2;36m \u001b[0m\u001b[1;38;2;0;105;255mINFO    \u001b[0m SageMaker Python SDK will collect telemetry to help us better  \u001b]8;id=856048;file:///home/ec2-user/anaconda3/envs/python3/lib/python3.10/site-packages/sagemaker/telemetry/telemetry_logging.py\u001b\\\u001b[2mtelemetry_logging.py\u001b[0m\u001b]8;;\u001b\\\u001b[2m:\u001b[0m\u001b]8;id=492274;file:///home/ec2-user/anaconda3/envs/python3/lib/python3.10/site-packages/sagemaker/telemetry/telemetry_logging.py#91\u001b\\\u001b[2m91\u001b[0m\u001b]8;;\u001b\\\n",
       "\u001b[2;36m                    \u001b[0m         understand our user's needs, diagnose issues, and deliver      \u001b[2m                       \u001b[0m\n",
       "\u001b[2;36m                    \u001b[0m         additional features.                                           \u001b[2m                       \u001b[0m\n",
       "\u001b[2;36m                    \u001b[0m         To opt out of telemetry, please disable via TelemetryOptOut    \u001b[2m                       \u001b[0m\n",
       "\u001b[2;36m                    \u001b[0m         parameter in SDK defaults config. For more information, refer  \u001b[2m                       \u001b[0m\n",
       "\u001b[2;36m                    \u001b[0m         to                                                             \u001b[2m                       \u001b[0m\n",
       "\u001b[2;36m                    \u001b[0m         \u001b[4;38;2;0;105;255mhttps://sagemaker.readthedocs.io/en/stable/overview.html#confi\u001b[0m \u001b[2m                       \u001b[0m\n",
       "\u001b[2;36m                    \u001b[0m         \u001b[4;38;2;0;105;255mguring-and-using-defaults-with-the-sagemaker-python-sdk.\u001b[0m       \u001b[2m                       \u001b[0m\n"
      ]
     },
     "metadata": {},
     "output_type": "display_data"
    },
    {
     "data": {
      "text/html": [
       "<pre style=\"white-space:pre;overflow-x:auto;line-height:normal;font-family:Menlo,'DejaVu Sans Mono',consolas,'Courier New',monospace\"><span style=\"color: #7fbfbf; text-decoration-color: #7fbfbf\">                    </span><span style=\"color: #0069ff; text-decoration-color: #0069ff; font-weight: bold\">INFO    </span> Creating training-job with name:                                       <a href=\"file:///home/ec2-user/anaconda3/envs/python3/lib/python3.10/site-packages/sagemaker/session.py\" target=\"_blank\"><span style=\"color: #7f7f7f; text-decoration-color: #7f7f7f\">session.py</span></a><span style=\"color: #7f7f7f; text-decoration-color: #7f7f7f\">:</span><a href=\"file:///home/ec2-user/anaconda3/envs/python3/lib/python3.10/site-packages/sagemaker/session.py#1053\" target=\"_blank\"><span style=\"color: #7f7f7f; text-decoration-color: #7f7f7f\">1053</span></a>\n",
       "<span style=\"color: #7fbfbf; text-decoration-color: #7fbfbf\">                    </span>         sagemaker-xgboost-<span style=\"color: #008080; text-decoration-color: #008080; font-weight: bold\">2025</span>-05-29-18-37-32-227                              <span style=\"color: #7f7f7f; text-decoration-color: #7f7f7f\">               </span>\n",
       "</pre>\n"
      ],
      "text/plain": [
       "\u001b[2;36m                   \u001b[0m\u001b[2;36m \u001b[0m\u001b[1;38;2;0;105;255mINFO    \u001b[0m Creating training-job with name:                                       \u001b]8;id=579138;file:///home/ec2-user/anaconda3/envs/python3/lib/python3.10/site-packages/sagemaker/session.py\u001b\\\u001b[2msession.py\u001b[0m\u001b]8;;\u001b\\\u001b[2m:\u001b[0m\u001b]8;id=549242;file:///home/ec2-user/anaconda3/envs/python3/lib/python3.10/site-packages/sagemaker/session.py#1053\u001b\\\u001b[2m1053\u001b[0m\u001b]8;;\u001b\\\n",
       "\u001b[2;36m                    \u001b[0m         sagemaker-xgboost-\u001b[1;36m2025\u001b[0m-05-29-18-37-32-227                              \u001b[2m               \u001b[0m\n"
      ]
     },
     "metadata": {},
     "output_type": "display_data"
    },
    {
     "name": "stdout",
     "output_type": "stream",
     "text": [
      "2025-05-29 18:37:32 Starting - Starting the training job...\n",
      "2025-05-29 18:37:56 Starting - Preparing the instances for training...\n",
      "2025-05-29 18:38:18 Downloading - Downloading input data...\n",
      "2025-05-29 18:38:48 Downloading - Downloading the training image......\n",
      "2025-05-29 18:39:43 Training - Training image download completed. Training in progress...\u001b[34m[2025-05-29 18:39:55.955 ip-10-0-126-60.us-east-2.compute.internal:7 INFO utils.py:27] RULE_JOB_STOP_SIGNAL_FILENAME: None\u001b[0m\n",
      "\u001b[34m[2025-05-29:18:39:55:INFO] Imported framework sagemaker_xgboost_container.training\u001b[0m\n",
      "\u001b[34m[2025-05-29:18:39:55:INFO] Failed to parse hyperparameter objective value multi:softprob to Json.\u001b[0m\n",
      "\u001b[34mReturning the value itself\u001b[0m\n",
      "\u001b[34m[2025-05-29:18:39:55:INFO] No GPUs detected (normal if no gpus installed)\u001b[0m\n",
      "\u001b[34m[2025-05-29:18:39:56:INFO] Running XGBoost Sagemaker in algorithm mode\u001b[0m\n",
      "\u001b[34m[2025-05-29:18:39:56:INFO] Determined delimiter of CSV input is ','\u001b[0m\n",
      "\u001b[34m[2025-05-29:18:39:56:INFO] Determined delimiter of CSV input is ','\u001b[0m\n",
      "\u001b[34m[2025-05-29:18:39:56:INFO] Determined delimiter of CSV input is ','\u001b[0m\n",
      "\u001b[34m[2025-05-29:18:39:56:INFO] Determined delimiter of CSV input is ','\u001b[0m\n",
      "\u001b[34m[2025-05-29:18:39:56:INFO] Single node training.\u001b[0m\n",
      "\u001b[34m[2025-05-29:18:39:56:INFO] Train matrix has 69997 rows and 28 columns\u001b[0m\n",
      "\u001b[34m[2025-05-29:18:39:56:INFO] Validation matrix has 20000 rows\u001b[0m\n",
      "\u001b[34m[2025-05-29 18:39:56.240 ip-10-0-126-60.us-east-2.compute.internal:7 INFO json_config.py:91] Creating hook from json_config at /opt/ml/input/config/debughookconfig.json.\u001b[0m\n",
      "\u001b[34m[2025-05-29 18:39:56.241 ip-10-0-126-60.us-east-2.compute.internal:7 INFO hook.py:201] tensorboard_dir has not been set for the hook. SMDebug will not be exporting tensorboard summaries.\u001b[0m\n",
      "\u001b[34m[2025-05-29 18:39:56.241 ip-10-0-126-60.us-east-2.compute.internal:7 INFO profiler_config_parser.py:102] User has disabled profiler.\u001b[0m\n",
      "\u001b[34m[2025-05-29 18:39:56.242 ip-10-0-126-60.us-east-2.compute.internal:7 INFO hook.py:255] Saving to /opt/ml/output/tensors\u001b[0m\n",
      "\u001b[34m[2025-05-29 18:39:56.242 ip-10-0-126-60.us-east-2.compute.internal:7 INFO state_store.py:77] The checkpoint config file /opt/ml/input/config/checkpointconfig.json does not exist.\u001b[0m\n",
      "\u001b[34m[2025-05-29:18:39:56:INFO] Debug hook created from config\u001b[0m\n",
      "\u001b[34m[0]#011train-merror:0.54809#011validation-merror:0.56205\u001b[0m\n",
      "\u001b[34m[2025-05-29 18:39:57.672 ip-10-0-126-60.us-east-2.compute.internal:7 INFO hook.py:423] Monitoring the collections: metrics\u001b[0m\n",
      "\u001b[34m[2025-05-29 18:39:57.677 ip-10-0-126-60.us-east-2.compute.internal:7 INFO hook.py:486] Hook is writing from the hook with pid: 7\u001b[0m\n",
      "\u001b[34m[1]#011train-merror:0.52881#011validation-merror:0.54025\u001b[0m\n",
      "\u001b[34m[2]#011train-merror:0.51631#011validation-merror:0.53010\u001b[0m\n",
      "\u001b[34m[3]#011train-merror:0.50496#011validation-merror:0.52125\u001b[0m\n",
      "\u001b[34m[4]#011train-merror:0.49649#011validation-merror:0.51125\u001b[0m\n",
      "\u001b[34m[5]#011train-merror:0.49515#011validation-merror:0.51135\u001b[0m\n",
      "\u001b[34m[6]#011train-merror:0.49075#011validation-merror:0.50570\u001b[0m\n",
      "\u001b[34m[7]#011train-merror:0.48436#011validation-merror:0.50025\u001b[0m\n",
      "\u001b[34m[8]#011train-merror:0.47908#011validation-merror:0.49355\u001b[0m\n",
      "\u001b[34m[9]#011train-merror:0.47491#011validation-merror:0.48925\u001b[0m\n",
      "\u001b[34m[10]#011train-merror:0.47348#011validation-merror:0.48725\u001b[0m\n",
      "\u001b[34m[11]#011train-merror:0.47023#011validation-merror:0.48375\u001b[0m\n",
      "\u001b[34m[12]#011train-merror:0.46452#011validation-merror:0.47650\u001b[0m\n",
      "\u001b[34m[13]#011train-merror:0.45632#011validation-merror:0.46575\u001b[0m\n",
      "\u001b[34m[14]#011train-merror:0.45106#011validation-merror:0.46095\u001b[0m\n",
      "\u001b[34m[15]#011train-merror:0.44463#011validation-merror:0.45505\u001b[0m\n",
      "\u001b[34m[16]#011train-merror:0.44115#011validation-merror:0.45115\u001b[0m\n",
      "\u001b[34m[17]#011train-merror:0.43572#011validation-merror:0.44560\u001b[0m\n",
      "\u001b[34m[18]#011train-merror:0.43310#011validation-merror:0.44285\u001b[0m\n",
      "\u001b[34m[19]#011train-merror:0.42675#011validation-merror:0.43620\u001b[0m\n",
      "\u001b[34m[20]#011train-merror:0.41697#011validation-merror:0.42690\u001b[0m\n",
      "\u001b[34m[21]#011train-merror:0.40773#011validation-merror:0.41710\u001b[0m\n",
      "\u001b[34m[22]#011train-merror:0.39490#011validation-merror:0.40325\u001b[0m\n",
      "\u001b[34m[23]#011train-merror:0.38994#011validation-merror:0.39810\u001b[0m\n",
      "\u001b[34m[24]#011train-merror:0.38683#011validation-merror:0.39415\u001b[0m\n",
      "\u001b[34m[25]#011train-merror:0.37924#011validation-merror:0.38710\u001b[0m\n",
      "\u001b[34m[26]#011train-merror:0.37102#011validation-merror:0.37915\u001b[0m\n",
      "\u001b[34m[27]#011train-merror:0.36164#011validation-merror:0.36975\u001b[0m\n",
      "\u001b[34m[28]#011train-merror:0.35730#011validation-merror:0.36610\u001b[0m\n",
      "\u001b[34m[29]#011train-merror:0.35083#011validation-merror:0.36000\u001b[0m\n",
      "\u001b[34m[30]#011train-merror:0.34436#011validation-merror:0.35325\u001b[0m\n",
      "\u001b[34m[31]#011train-merror:0.33466#011validation-merror:0.34165\u001b[0m\n",
      "\u001b[34m[32]#011train-merror:0.32956#011validation-merror:0.33610\u001b[0m\n",
      "\u001b[34m[33]#011train-merror:0.32551#011validation-merror:0.33195\u001b[0m\n",
      "\u001b[34m[34]#011train-merror:0.31620#011validation-merror:0.32330\u001b[0m\n",
      "\u001b[34m[35]#011train-merror:0.31168#011validation-merror:0.31940\u001b[0m\n",
      "\u001b[34m[36]#011train-merror:0.30877#011validation-merror:0.31530\u001b[0m\n",
      "\u001b[34m[37]#011train-merror:0.30557#011validation-merror:0.31230\u001b[0m\n",
      "\u001b[34m[38]#011train-merror:0.29613#011validation-merror:0.30190\u001b[0m\n",
      "\u001b[34m[39]#011train-merror:0.29147#011validation-merror:0.29620\u001b[0m\n",
      "\u001b[34m[40]#011train-merror:0.28283#011validation-merror:0.28695\u001b[0m\n",
      "\u001b[34m[41]#011train-merror:0.27641#011validation-merror:0.28100\u001b[0m\n",
      "\u001b[34m[42]#011train-merror:0.27238#011validation-merror:0.27690\u001b[0m\n",
      "\u001b[34m[43]#011train-merror:0.26728#011validation-merror:0.27205\u001b[0m\n",
      "\u001b[34m[44]#011train-merror:0.26151#011validation-merror:0.26660\u001b[0m\n",
      "\u001b[34m[45]#011train-merror:0.25514#011validation-merror:0.25815\u001b[0m\n",
      "\u001b[34m[46]#011train-merror:0.25094#011validation-merror:0.25390\u001b[0m\n",
      "\u001b[34m[47]#011train-merror:0.24552#011validation-merror:0.24770\u001b[0m\n",
      "\u001b[34m[48]#011train-merror:0.24063#011validation-merror:0.24275\u001b[0m\n",
      "\u001b[34m[49]#011train-merror:0.23564#011validation-merror:0.23870\u001b[0m\n",
      "\u001b[34m[50]#011train-merror:0.23431#011validation-merror:0.23740\u001b[0m\n",
      "\u001b[34m[51]#011train-merror:0.22709#011validation-merror:0.23020\u001b[0m\n",
      "\u001b[34m[52]#011train-merror:0.22091#011validation-merror:0.22380\u001b[0m\n",
      "\u001b[34m[53]#011train-merror:0.21611#011validation-merror:0.21880\u001b[0m\n",
      "\u001b[34m[54]#011train-merror:0.20878#011validation-merror:0.21190\u001b[0m\n",
      "\u001b[34m[55]#011train-merror:0.20377#011validation-merror:0.20710\u001b[0m\n",
      "\u001b[34m[56]#011train-merror:0.20087#011validation-merror:0.20430\u001b[0m\n",
      "\u001b[34m[57]#011train-merror:0.19719#011validation-merror:0.20015\u001b[0m\n",
      "\u001b[34m[58]#011train-merror:0.19445#011validation-merror:0.19750\u001b[0m\n",
      "\u001b[34m[59]#011train-merror:0.19131#011validation-merror:0.19420\u001b[0m\n",
      "\u001b[34m[60]#011train-merror:0.18908#011validation-merror:0.19210\u001b[0m\n",
      "\u001b[34m[61]#011train-merror:0.18516#011validation-merror:0.18885\u001b[0m\n",
      "\u001b[34m[62]#011train-merror:0.18132#011validation-merror:0.18475\u001b[0m\n",
      "\u001b[34m[63]#011train-merror:0.17795#011validation-merror:0.18185\u001b[0m\n",
      "\u001b[34m[64]#011train-merror:0.17456#011validation-merror:0.17820\u001b[0m\n",
      "\u001b[34m[65]#011train-merror:0.17232#011validation-merror:0.17655\u001b[0m\n",
      "\u001b[34m[66]#011train-merror:0.16769#011validation-merror:0.17095\u001b[0m\n",
      "\u001b[34m[67]#011train-merror:0.16395#011validation-merror:0.16710\u001b[0m\n",
      "\u001b[34m[68]#011train-merror:0.16091#011validation-merror:0.16495\u001b[0m\n",
      "\u001b[34m[69]#011train-merror:0.15839#011validation-merror:0.16225\u001b[0m\n",
      "\u001b[34m[70]#011train-merror:0.15706#011validation-merror:0.16140\u001b[0m\n",
      "\u001b[34m[71]#011train-merror:0.15382#011validation-merror:0.15725\u001b[0m\n",
      "\u001b[34m[72]#011train-merror:0.15138#011validation-merror:0.15495\u001b[0m\n",
      "\u001b[34m[73]#011train-merror:0.14889#011validation-merror:0.15315\u001b[0m\n",
      "\u001b[34m[74]#011train-merror:0.14601#011validation-merror:0.14925\u001b[0m\n",
      "\u001b[34m[75]#011train-merror:0.14246#011validation-merror:0.14550\u001b[0m\n",
      "\u001b[34m[76]#011train-merror:0.13822#011validation-merror:0.14125\u001b[0m\n",
      "\u001b[34m[77]#011train-merror:0.13733#011validation-merror:0.14060\u001b[0m\n",
      "\u001b[34m[78]#011train-merror:0.13628#011validation-merror:0.13935\u001b[0m\n",
      "\u001b[34m[79]#011train-merror:0.13438#011validation-merror:0.13840\u001b[0m\n",
      "\u001b[34m[80]#011train-merror:0.13035#011validation-merror:0.13430\u001b[0m\n",
      "\u001b[34m[81]#011train-merror:0.12919#011validation-merror:0.13325\u001b[0m\n",
      "\u001b[34m[82]#011train-merror:0.12453#011validation-merror:0.12970\u001b[0m\n",
      "\u001b[34m[83]#011train-merror:0.12369#011validation-merror:0.12905\u001b[0m\n",
      "\u001b[34m[84]#011train-merror:0.12163#011validation-merror:0.12690\u001b[0m\n",
      "\u001b[34m[85]#011train-merror:0.12063#011validation-merror:0.12595\u001b[0m\n",
      "\u001b[34m[86]#011train-merror:0.11888#011validation-merror:0.12405\u001b[0m\n",
      "\u001b[34m[87]#011train-merror:0.11849#011validation-merror:0.12330\u001b[0m\n",
      "\u001b[34m[88]#011train-merror:0.11685#011validation-merror:0.12215\u001b[0m\n",
      "\u001b[34m[89]#011train-merror:0.11521#011validation-merror:0.12095\u001b[0m\n",
      "\u001b[34m[90]#011train-merror:0.11383#011validation-merror:0.11945\u001b[0m\n",
      "\u001b[34m[91]#011train-merror:0.11163#011validation-merror:0.11725\u001b[0m\n",
      "\u001b[34m[92]#011train-merror:0.11035#011validation-merror:0.11615\u001b[0m\n",
      "\u001b[34m[93]#011train-merror:0.10860#011validation-merror:0.11480\u001b[0m\n",
      "\u001b[34m[94]#011train-merror:0.10619#011validation-merror:0.11245\u001b[0m\n",
      "\u001b[34m[95]#011train-merror:0.10453#011validation-merror:0.11095\u001b[0m\n",
      "\u001b[34m[96]#011train-merror:0.10273#011validation-merror:0.10900\u001b[0m\n",
      "\u001b[34m[97]#011train-merror:0.10186#011validation-merror:0.10835\u001b[0m\n",
      "\u001b[34m[98]#011train-merror:0.10068#011validation-merror:0.10740\u001b[0m\n",
      "\u001b[34m[99]#011train-merror:0.09996#011validation-merror:0.10595\u001b[0m\n",
      "\n",
      "2025-05-29 18:42:27 Uploading - Uploading generated training model\n",
      "2025-05-29 18:42:27 Completed - Training job completed\n",
      "Training seconds: 250\n",
      "Billable seconds: 250\n"
     ]
    }
   ],
   "source": [
    "xgb.fit({\"train\": s3_input_train, \"validation\": s3_input_validation})"
   ]
  },
  {
   "cell_type": "markdown",
   "id": "eba80f0d",
   "metadata": {},
   "source": [
    "## MLRun"
   ]
  },
  {
   "attachments": {},
   "cell_type": "markdown",
   "id": "8b716cd7",
   "metadata": {},
   "source": [
    "### 5. Using the endpoint <a class=\"anchor\" id=\"Using-the-endpoint\"></a>\n",
    "\n",
    "Deploy the model to an endpoint"
   ]
  },
  {
   "cell_type": "code",
   "execution_count": 32,
   "id": "607aac20-69f9-4b12-a445-64886f5bad6b",
   "metadata": {},
   "outputs": [],
   "source": [
    "import mlrun"
   ]
  },
  {
   "cell_type": "markdown",
   "id": "d0bfe4a6",
   "metadata": {},
   "source": [
    "Install packages"
   ]
  },
  {
   "cell_type": "code",
   "execution_count": 33,
   "id": "4186a8be",
   "metadata": {},
   "outputs": [
    {
     "name": "stdout",
     "output_type": "stream",
     "text": [
      "Requirement already satisfied: graphviz in /home/ec2-user/anaconda3/envs/python3/lib/python3.10/site-packages (0.20.3)\n",
      "Requirement already satisfied: xgboost in /home/ec2-user/anaconda3/envs/python3/lib/python3.10/site-packages (3.0.2)\n",
      "Requirement already satisfied: numpy in /home/ec2-user/anaconda3/envs/python3/lib/python3.10/site-packages (from xgboost) (1.26.4)\n",
      "Requirement already satisfied: scipy in /home/ec2-user/anaconda3/envs/python3/lib/python3.10/site-packages (from xgboost) (1.15.2)\n",
      "Note: you may need to restart the kernel to use updated packages.\n"
     ]
    }
   ],
   "source": [
    "%pip install graphviz xgboost"
   ]
  },
  {
   "cell_type": "code",
   "execution_count": 35,
   "id": "ded8301b-2523-4ad7-bba2-30e0ca748253",
   "metadata": {},
   "outputs": [
    {
     "name": "stdout",
     "output_type": "stream",
     "text": [
      "> 2025-05-29 18:49:10,422 [info] Loading project from path: {\"path\":\"./\",\"project_name\":\"sagemaker\",\"user_project\":true}\n",
      "> 2025-05-29 18:49:10,426 [warning] Project name mismatch, sagemaker-ec2-user != sagemaker-felipe, project is loaded from sagemaker-ec2-user project yaml. To prevent/allow this, you can take one of the following actions:\n",
      "1. Set the `allow_cross_project=True` when loading the project.\n",
      "2. Delete the existing project yaml, or ensure its name is equal to sagemaker-felipe.\n",
      "3. Use different project context dir.\n"
     ]
    },
    {
     "name": "stderr",
     "output_type": "stream",
     "text": [
      "Project name='sagemaker-felipe' is different than specified on the context's project yaml. This behavior is deprecated and will not be supported from version 1.9.0.\n"
     ]
    },
    {
     "name": "stdout",
     "output_type": "stream",
     "text": [
      "Building default image for the demo:\n",
      "> 2025-05-29 18:49:25,480 [info] Started building image: .mlrun-project-image-sagemaker-felipe\n"
     ]
    },
    {
     "name": "stderr",
     "output_type": "stream",
     "text": [
      "The `overwrite_build_params` parameter default will change from 'False' to 'True' in 1.9.0.\n"
     ]
    },
    {
     "name": "stdout",
     "output_type": "stream",
     "text": [
      "Enumerating objects: 329, done.\n",
      "Counting objects: 100% (92/92), done.\n",
      "Compressing objects: 100% (56/56), done.\n",
      "Total 329 (delta 43), reused 43 (delta 36), pack-reused 237 (from 2)\n",
      "\u001b[36mINFO\u001b[0m[0000] Retrieving image manifest mlrun/mlrun:1.8.0-rc56 \n",
      "\u001b[36mINFO\u001b[0m[0000] Retrieving image mlrun/mlrun:1.8.0-rc56 from registry index.docker.io \n",
      "\u001b[36mINFO\u001b[0m[0000] Built cross stage deps: map[]                \n",
      "\u001b[36mINFO\u001b[0m[0000] Retrieving image manifest mlrun/mlrun:1.8.0-rc56 \n",
      "\u001b[36mINFO\u001b[0m[0000] Returning cached image manifest              \n",
      "\u001b[36mINFO\u001b[0m[0000] Executing 0 build triggers                   \n",
      "\u001b[36mINFO\u001b[0m[0000] Building stage 'mlrun/mlrun:1.8.0-rc56' [idx: '0', base-idx: '-1'] \n",
      "\u001b[36mINFO\u001b[0m[0000] Unpacking rootfs as cmd ADD . /home/mlrun_code/ requires it. \n",
      "\u001b[36mINFO\u001b[0m[0033] ARG AWS_ACCESS_KEY_ID=$AWS_ACCESS_KEY_ID     \n",
      "\u001b[36mINFO\u001b[0m[0033] ARG AWS_DEFAULT_REGION=$AWS_DEFAULT_REGION   \n",
      "\u001b[36mINFO\u001b[0m[0033] ARG AWS_SECRET_ACCESS_KEY=$AWS_SECRET_ACCESS_KEY \n",
      "\u001b[36mINFO\u001b[0m[0033] ARG SAGEMAKER_ROLE=$SAGEMAKER_ROLE           \n",
      "\u001b[36mINFO\u001b[0m[0033] Using files from context: [/kaniko/buildcontext] \n",
      "\u001b[36mINFO\u001b[0m[0033] ADD . /home/mlrun_code/                      \n",
      "\u001b[36mINFO\u001b[0m[0033] Taking snapshot of files...                  \n",
      "\u001b[36mINFO\u001b[0m[0033] ENV PYTHONPATH /home/mlrun_code/             \n",
      "\u001b[36mINFO\u001b[0m[0033] RUN pip install -U sagemaker                 \n",
      "\u001b[36mINFO\u001b[0m[0033] Initializing snapshotter ...                 \n",
      "\u001b[36mINFO\u001b[0m[0033] Taking snapshot of full filesystem...        \n",
      "\u001b[36mINFO\u001b[0m[0049] Cmd: /bin/sh                                 \n",
      "\u001b[36mINFO\u001b[0m[0049] Args: [-c pip install -U sagemaker]          \n",
      "\u001b[36mINFO\u001b[0m[0049] Running: [/bin/sh -c pip install -U sagemaker] \n",
      "Collecting sagemaker\n",
      "  Downloading sagemaker-2.245.0-py3-none-any.whl.metadata (17 kB)\n",
      "Collecting attrs<24,>=23.1.0 (from sagemaker)\n",
      "  Downloading attrs-23.2.0-py3-none-any.whl.metadata (9.5 kB)\n",
      "Collecting boto3<2.0,>=1.35.75 (from sagemaker)\n",
      "  Downloading boto3-1.38.25-py3-none-any.whl.metadata (6.6 kB)\n",
      "Requirement already satisfied: cloudpickle>=2.2.1 in /opt/conda/lib/python3.9/site-packages (from sagemaker) (3.1.1)\n",
      "Requirement already satisfied: docker in /opt/conda/lib/python3.9/site-packages (from sagemaker) (7.1.0)\n",
      "Requirement already satisfied: fastapi in /opt/conda/lib/python3.9/site-packages (from sagemaker) (0.115.12)\n",
      "Collecting google-pasta (from sagemaker)\n",
      "  Downloading google_pasta-0.2.0-py3-none-any.whl.metadata (814 bytes)\n",
      "Requirement already satisfied: graphene<4,>=3 in /opt/conda/lib/python3.9/site-packages (from sagemaker) (3.4.3)\n",
      "Collecting importlib-metadata<7.0,>=1.4.0 (from sagemaker)\n",
      "  Downloading importlib_metadata-6.11.0-py3-none-any.whl.metadata (4.9 kB)\n",
      "Requirement already satisfied: jsonschema in /opt/conda/lib/python3.9/site-packages (from sagemaker) (4.23.0)\n",
      "Requirement already satisfied: numpy==1.26.4 in /opt/conda/lib/python3.9/site-packages (from sagemaker) (1.26.4)\n",
      "Collecting omegaconf<3,>=2.2 (from sagemaker)\n",
      "  Downloading omegaconf-2.3.0-py3-none-any.whl.metadata (3.9 kB)\n",
      "Requirement already satisfied: packaging<25,>=23.0 in /opt/conda/lib/python3.9/site-packages (from sagemaker) (24.2)\n",
      "Requirement already satisfied: pandas in /opt/conda/lib/python3.9/site-packages (from sagemaker) (2.1.4)\n",
      "Collecting pathos (from sagemaker)\n",
      "  Downloading pathos-0.3.4-py3-none-any.whl.metadata (11 kB)\n",
      "Requirement already satisfied: platformdirs in /opt/conda/lib/python3.9/site-packages (from sagemaker) (4.3.7)\n",
      "Requirement already satisfied: protobuf<6.0,>=3.12 in /opt/conda/lib/python3.9/site-packages (from sagemaker) (3.20.3)\n",
      "Requirement already satisfied: psutil in /opt/conda/lib/python3.9/site-packages (from sagemaker) (7.0.0)\n",
      "Requirement already satisfied: pyyaml>=6.0.1 in /opt/conda/lib/python3.9/site-packages (from sagemaker) (6.0.2)\n",
      "Requirement already satisfied: requests in /opt/conda/lib/python3.9/site-packages (from sagemaker) (2.32.3)\n",
      "Collecting sagemaker-core<2.0.0,>=1.0.17 (from sagemaker)\n",
      "  Downloading sagemaker_core-1.0.34-py3-none-any.whl.metadata (4.9 kB)\n",
      "Collecting schema (from sagemaker)\n",
      "  Downloading schema-0.7.7-py2.py3-none-any.whl.metadata (34 kB)\n",
      "Collecting smdebug-rulesconfig==1.0.1 (from sagemaker)\n",
      "  Downloading smdebug_rulesconfig-1.0.1-py2.py3-none-any.whl.metadata (943 bytes)\n",
      "Requirement already satisfied: tblib<4,>=1.7.0 in /opt/conda/lib/python3.9/site-packages (from sagemaker) (3.1.0)\n",
      "Requirement already satisfied: tqdm in /opt/conda/lib/python3.9/site-packages (from sagemaker) (4.67.1)\n",
      "Requirement already satisfied: urllib3<3.0.0,>=1.26.8 in /opt/conda/lib/python3.9/site-packages (from sagemaker) (1.26.20)\n",
      "Requirement already satisfied: uvicorn in /opt/conda/lib/python3.9/site-packages (from sagemaker) (0.34.2)\n",
      "Collecting botocore<1.39.0,>=1.38.25 (from boto3<2.0,>=1.35.75->sagemaker)\n",
      "  Downloading botocore-1.38.25-py3-none-any.whl.metadata (5.7 kB)\n",
      "Requirement already satisfied: jmespath<2.0.0,>=0.7.1 in /opt/conda/lib/python3.9/site-packages (from boto3<2.0,>=1.35.75->sagemaker) (0.10.0)\n",
      "Collecting s3transfer<0.14.0,>=0.13.0 (from boto3<2.0,>=1.35.75->sagemaker)\n",
      "  Downloading s3transfer-0.13.0-py3-none-any.whl.metadata (1.7 kB)\n",
      "Requirement already satisfied: graphql-core<3.3,>=3.1 in /opt/conda/lib/python3.9/site-packages (from graphene<4,>=3->sagemaker) (3.2.6)\n",
      "Requirement already satisfied: graphql-relay<3.3,>=3.1 in /opt/conda/lib/python3.9/site-packages (from graphene<4,>=3->sagemaker) (3.2.0)\n",
      "Requirement already satisfied: python-dateutil<3,>=2.7.0 in /opt/conda/lib/python3.9/site-packages (from graphene<4,>=3->sagemaker) (2.9.0.post0)\n",
      "Requirement already satisfied: typing-extensions<5,>=4.7.1 in /opt/conda/lib/python3.9/site-packages (from graphene<4,>=3->sagemaker) (4.13.2)\n",
      "Requirement already satisfied: zipp>=0.5 in /opt/conda/lib/python3.9/site-packages (from importlib-metadata<7.0,>=1.4.0->sagemaker) (3.21.0)\n",
      "Collecting antlr4-python3-runtime==4.9.* (from omegaconf<3,>=2.2->sagemaker)\n",
      "  Downloading antlr4-python3-runtime-4.9.3.tar.gz (117 kB)\n",
      "  Preparing metadata (setup.py): started\n",
      "  Preparing metadata (setup.py): finished with status 'done'\n",
      "Requirement already satisfied: pydantic<3.0.0,>=2.0.0 in /opt/conda/lib/python3.9/site-packages (from sagemaker-core<2.0.0,>=1.0.17->sagemaker) (2.11.4)\n",
      "Collecting rich<15.0.0,>=14.0.0 (from sagemaker-core<2.0.0,>=1.0.17->sagemaker)\n",
      "  Downloading rich-14.0.0-py3-none-any.whl.metadata (18 kB)\n",
      "Collecting mock<5.0,>4.0 (from sagemaker-core<2.0.0,>=1.0.17->sagemaker)\n",
      "  Downloading mock-4.0.3-py3-none-any.whl.metadata (2.8 kB)\n",
      "Requirement already satisfied: jsonschema-specifications>=2023.03.6 in /opt/conda/lib/python3.9/site-packages (from jsonschema->sagemaker) (2025.4.1)\n",
      "Requirement already satisfied: referencing>=0.28.4 in /opt/conda/lib/python3.9/site-packages (from jsonschema->sagemaker) (0.36.2)\n",
      "Requirement already satisfied: rpds-py>=0.7.1 in /opt/conda/lib/python3.9/site-packages (from jsonschema->sagemaker) (0.24.0)\n",
      "Requirement already satisfied: charset-normalizer<4,>=2 in /opt/conda/lib/python3.9/site-packages (from requests->sagemaker) (3.4.1)\n",
      "Requirement already satisfied: idna<4,>=2.5 in /opt/conda/lib/python3.9/site-packages (from requests->sagemaker) (3.10)\n",
      "Requirement already satisfied: certifi>=2017.4.17 in /opt/conda/lib/python3.9/site-packages (from requests->sagemaker) (2025.4.26)\n",
      "Requirement already satisfied: starlette<0.47.0,>=0.40.0 in /opt/conda/lib/python3.9/site-packages (from fastapi->sagemaker) (0.46.2)\n",
      "Requirement already satisfied: six in /opt/conda/lib/python3.9/site-packages (from google-pasta->sagemaker) (1.17.0)\n",
      "Requirement already satisfied: pytz>=2020.1 in /opt/conda/lib/python3.9/site-packages (from pandas->sagemaker) (2025.2)\n",
      "Requirement already satisfied: tzdata>=2022.1 in /opt/conda/lib/python3.9/site-packages (from pandas->sagemaker) (2025.2)\n",
      "Collecting ppft>=1.7.7 (from pathos->sagemaker)\n",
      "  Downloading ppft-1.7.7-py3-none-any.whl.metadata (12 kB)\n",
      "Collecting dill>=0.4.0 (from pathos->sagemaker)\n",
      "  Downloading dill-0.4.0-py3-none-any.whl.metadata (10 kB)\n",
      "Collecting pox>=0.3.6 (from pathos->sagemaker)\n",
      "  Downloading pox-0.3.6-py3-none-any.whl.metadata (8.0 kB)\n",
      "Collecting multiprocess>=0.70.18 (from pathos->sagemaker)\n",
      "  Downloading multiprocess-0.70.18-py39-none-any.whl.metadata (7.5 kB)\n",
      "Requirement already satisfied: click>=7.0 in /opt/conda/lib/python3.9/site-packages (from uvicorn->sagemaker) (8.1.8)\n",
      "Requirement already satisfied: h11>=0.8 in /opt/conda/lib/python3.9/site-packages (from uvicorn->sagemaker) (0.16.0)\n",
      "Requirement already satisfied: annotated-types>=0.6.0 in /opt/conda/lib/python3.9/site-packages (from pydantic<3.0.0,>=2.0.0->sagemaker-core<2.0.0,>=1.0.17->sagemaker) (0.7.0)\n",
      "Requirement already satisfied: pydantic-core==2.33.2 in /opt/conda/lib/python3.9/site-packages (from pydantic<3.0.0,>=2.0.0->sagemaker-core<2.0.0,>=1.0.17->sagemaker) (2.33.2)\n",
      "Requirement already satisfied: typing-inspection>=0.4.0 in /opt/conda/lib/python3.9/site-packages (from pydantic<3.0.0,>=2.0.0->sagemaker-core<2.0.0,>=1.0.17->sagemaker) (0.4.0)\n",
      "Requirement already satisfied: markdown-it-py>=2.2.0 in /opt/conda/lib/python3.9/site-packages (from rich<15.0.0,>=14.0.0->sagemaker-core<2.0.0,>=1.0.17->sagemaker) (2.2.0)\n",
      "Requirement already satisfied: pygments<3.0.0,>=2.13.0 in /opt/conda/lib/python3.9/site-packages (from rich<15.0.0,>=14.0.0->sagemaker-core<2.0.0,>=1.0.17->sagemaker) (2.19.1)\n",
      "Requirement already satisfied: anyio<5,>=3.6.2 in /opt/conda/lib/python3.9/site-packages (from starlette<0.47.0,>=0.40.0->fastapi->sagemaker) (4.9.0)\n",
      "Requirement already satisfied: exceptiongroup>=1.0.2 in /opt/conda/lib/python3.9/site-packages (from anyio<5,>=3.6.2->starlette<0.47.0,>=0.40.0->fastapi->sagemaker) (1.2.2)\n",
      "Requirement already satisfied: sniffio>=1.1 in /opt/conda/lib/python3.9/site-packages (from anyio<5,>=3.6.2->starlette<0.47.0,>=0.40.0->fastapi->sagemaker) (1.3.1)\n",
      "Requirement already satisfied: mdurl~=0.1 in /opt/conda/lib/python3.9/site-packages (from markdown-it-py>=2.2.0->rich<15.0.0,>=14.0.0->sagemaker-core<2.0.0,>=1.0.17->sagemaker) (0.1.0)\n",
      "Downloading sagemaker-2.245.0-py3-none-any.whl (1.7 MB)\n",
      "   ━━━━━━━━━━━━━━━━━━━━━━━━━━━━━━━━━━━━━━━━ 1.7/1.7 MB 50.8 MB/s eta 0:00:00\n",
      "Downloading smdebug_rulesconfig-1.0.1-py2.py3-none-any.whl (20 kB)\n",
      "Downloading attrs-23.2.0-py3-none-any.whl (60 kB)\n",
      "Downloading boto3-1.38.25-py3-none-any.whl (139 kB)\n",
      "Downloading importlib_metadata-6.11.0-py3-none-any.whl (23 kB)\n",
      "Downloading omegaconf-2.3.0-py3-none-any.whl (79 kB)\n",
      "Downloading sagemaker_core-1.0.34-py3-none-any.whl (411 kB)\n",
      "Downloading google_pasta-0.2.0-py3-none-any.whl (57 kB)\n",
      "Downloading pathos-0.3.4-py3-none-any.whl (82 kB)\n",
      "Downloading schema-0.7.7-py2.py3-none-any.whl (18 kB)\n",
      "Downloading botocore-1.38.25-py3-none-any.whl (13.6 MB)\n",
      "   ━━━━━━━━━━━━━━━━━━━━━━━━━━━━━━━━━━━━━━━━ 13.6/13.6 MB 157.4 MB/s eta 0:00:00\n",
      "Downloading dill-0.4.0-py3-none-any.whl (119 kB)\n",
      "Downloading mock-4.0.3-py3-none-any.whl (28 kB)\n",
      "Downloading multiprocess-0.70.18-py39-none-any.whl (133 kB)\n",
      "Downloading pox-0.3.6-py3-none-any.whl (29 kB)\n",
      "Downloading ppft-1.7.7-py3-none-any.whl (56 kB)\n",
      "Downloading rich-14.0.0-py3-none-any.whl (243 kB)\n",
      "Downloading s3transfer-0.13.0-py3-none-any.whl (85 kB)\n",
      "Building wheels for collected packages: antlr4-python3-runtime\n",
      "  Building wheel for antlr4-python3-runtime (setup.py): started\n",
      "  Building wheel for antlr4-python3-runtime (setup.py): finished with status 'done'\n",
      "  Created wheel for antlr4-python3-runtime: filename=antlr4_python3_runtime-4.9.3-py3-none-any.whl size=144589 sha256=c86852a7a554c096a3804c624d9e06e9cea793a0525be96cbc89f1835ee8164f\n",
      "  Stored in directory: /root/.cache/pip/wheels/23/cf/80/f3efa822e6ab23277902ee9165fe772eeb1dfb8014f359020a\n",
      "Successfully built antlr4-python3-runtime\n",
      "Installing collected packages: schema, antlr4-python3-runtime, smdebug-rulesconfig, ppft, pox, omegaconf, mock, importlib-metadata, google-pasta, dill, attrs, rich, multiprocess, botocore, s3transfer, pathos, boto3, sagemaker-core, sagemaker\n",
      "  Attempting uninstall: importlib-metadata\n",
      "    Found existing installation: importlib_metadata 7.2.1\n",
      "    Uninstalling importlib_metadata-7.2.1:\n",
      "      Successfully uninstalled importlib_metadata-7.2.1\n",
      "  Attempting uninstall: attrs\n",
      "    Found existing installation: attrs 25.3.0\n",
      "    Uninstalling attrs-25.3.0:\n",
      "      Successfully uninstalled attrs-25.3.0\n",
      "  Attempting uninstall: rich\n",
      "    Found existing installation: rich 13.9.4\n",
      "    Uninstalling rich-13.9.4:\n",
      "      Successfully uninstalled rich-13.9.4\n",
      "  Attempting uninstall: botocore\n",
      "    Found existing installation: botocore 1.35.36\n",
      "    Uninstalling botocore-1.35.36:\n",
      "      Successfully uninstalled botocore-1.35.36\n",
      "  Attempting uninstall: s3transfer\n",
      "    Found existing installation: s3transfer 0.10.4\n",
      "    Uninstalling s3transfer-0.10.4:\n",
      "      Successfully uninstalled s3transfer-0.10.4\n",
      "  Attempting uninstall: boto3\n",
      "    Found existing installation: boto3 1.35.36\n",
      "    Uninstalling boto3-1.35.36:\n",
      "      Successfully uninstalled boto3-1.35.36\n",
      "ERROR: pip's dependency resolver does not currently take into account all the packages that are installed. This behaviour is the source of the following dependency conflicts.\n",
      "aiobotocore 2.15.2 requires botocore<1.35.37,>=1.35.16, but you have botocore 1.38.25 which is incompatible.\n",
      "Successfully installed antlr4-python3-runtime-4.9.3 attrs-23.2.0 boto3-1.38.25 botocore-1.38.25 dill-0.4.0 google-pasta-0.2.0 importlib-metadata-6.11.0 mock-4.0.3 multiprocess-0.70.18 omegaconf-2.3.0 pathos-0.3.4 pox-0.3.6 ppft-1.7.7 rich-14.0.0 s3transfer-0.13.0 sagemaker-2.245.0 sagemaker-core-1.0.34 schema-0.7.7 smdebug-rulesconfig-1.0.1\n",
      "WARNING: Running pip as the 'root' user can result in broken permissions and conflicting behaviour with the system package manager, possibly rendering your system unusable. It is recommended to use a virtual environment instead: https://pip.pypa.io/warnings/venv. Use the --root-user-action option if you know what you are doing and want to suppress this warning.\n",
      "\u001b[36mINFO\u001b[0m[0057] Taking snapshot of full filesystem...        \n",
      "\u001b[36mINFO\u001b[0m[0064] RUN pip install -U xgboost                   \n",
      "\u001b[36mINFO\u001b[0m[0064] Cmd: /bin/sh                                 \n",
      "\u001b[36mINFO\u001b[0m[0064] Args: [-c pip install -U xgboost]            \n",
      "\u001b[36mINFO\u001b[0m[0064] Running: [/bin/sh -c pip install -U xgboost] \n",
      "Collecting xgboost\n",
      "  Downloading xgboost-2.1.4-py3-none-manylinux_2_28_x86_64.whl.metadata (2.1 kB)\n",
      "Requirement already satisfied: numpy in /opt/conda/lib/python3.9/site-packages (from xgboost) (1.26.4)\n",
      "Collecting nvidia-nccl-cu12 (from xgboost)\n",
      "  Downloading nvidia_nccl_cu12-2.26.5-py3-none-manylinux2014_x86_64.manylinux_2_17_x86_64.whl.metadata (2.0 kB)\n",
      "Requirement already satisfied: scipy in /opt/conda/lib/python3.9/site-packages (from xgboost) (1.13.1)\n",
      "Downloading xgboost-2.1.4-py3-none-manylinux_2_28_x86_64.whl (223.6 MB)\n",
      "   ━━━━━━━━━━━━━━━━━━━━━━━━━━━━━━━━━━━━━━━━ 223.6/223.6 MB 47.1 MB/s eta 0:00:00\n",
      "Downloading nvidia_nccl_cu12-2.26.5-py3-none-manylinux2014_x86_64.manylinux_2_17_x86_64.whl (318.1 MB)\n",
      "   ━━━━━━━━━━━━━━━━━━━━━━━━━━━━━━━━━━━━━━━━ 318.1/318.1 MB 46.4 MB/s eta 0:00:00\n",
      "Installing collected packages: nvidia-nccl-cu12, xgboost\n",
      "Successfully installed nvidia-nccl-cu12-2.26.5 xgboost-2.1.4\n",
      "WARNING: Running pip as the 'root' user can result in broken permissions and conflicting behaviour with the system package manager, possibly rendering your system unusable. It is recommended to use a virtual environment instead: https://pip.pypa.io/warnings/venv. Use the --root-user-action option if you know what you are doing and want to suppress this warning.\n",
      "\u001b[36mINFO\u001b[0m[0085] Taking snapshot of full filesystem...        \n",
      "\u001b[36mINFO\u001b[0m[0112] RUN pip install -U tarsafe                   \n",
      "\u001b[36mINFO\u001b[0m[0112] Cmd: /bin/sh                                 \n",
      "\u001b[36mINFO\u001b[0m[0112] Args: [-c pip install -U tarsafe]            \n",
      "\u001b[36mINFO\u001b[0m[0112] Running: [/bin/sh -c pip install -U tarsafe] \n",
      "Collecting tarsafe\n",
      "  Downloading tarsafe-0.0.5-py3-none-any.whl.metadata (922 bytes)\n",
      "Downloading tarsafe-0.0.5-py3-none-any.whl (5.4 kB)\n",
      "Installing collected packages: tarsafe\n",
      "Successfully installed tarsafe-0.0.5\n",
      "WARNING: Running pip as the 'root' user can result in broken permissions and conflicting behaviour with the system package manager, possibly rendering your system unusable. It is recommended to use a virtual environment instead: https://pip.pypa.io/warnings/venv. Use the --root-user-action option if you know what you are doing and want to suppress this warning.\n",
      "\u001b[36mINFO\u001b[0m[0114] Taking snapshot of full filesystem...        \n",
      "\u001b[36mINFO\u001b[0m[0118] RUN pip install -U aiobotocore               \n",
      "\u001b[36mINFO\u001b[0m[0118] Cmd: /bin/sh                                 \n",
      "\u001b[36mINFO\u001b[0m[0118] Args: [-c pip install -U aiobotocore]        \n",
      "\u001b[36mINFO\u001b[0m[0118] Running: [/bin/sh -c pip install -U aiobotocore] \n",
      "Requirement already satisfied: aiobotocore in /opt/conda/lib/python3.9/site-packages (2.15.2)\n",
      "Collecting aiobotocore\n",
      "  Downloading aiobotocore-2.22.0-py3-none-any.whl.metadata (24 kB)\n",
      "Requirement already satisfied: aiohttp<4.0.0,>=3.9.2 in /opt/conda/lib/python3.9/site-packages (from aiobotocore) (3.11.18)\n",
      "Requirement already satisfied: aioitertools<1.0.0,>=0.5.1 in /opt/conda/lib/python3.9/site-packages (from aiobotocore) (0.12.0)\n",
      "Collecting botocore<1.37.4,>=1.37.2 (from aiobotocore)\n",
      "  Downloading botocore-1.37.3-py3-none-any.whl.metadata (5.7 kB)\n",
      "Requirement already satisfied: python-dateutil<3.0.0,>=2.1 in /opt/conda/lib/python3.9/site-packages (from aiobotocore) (2.9.0.post0)\n",
      "Requirement already satisfied: jmespath<2.0.0,>=0.7.1 in /opt/conda/lib/python3.9/site-packages (from aiobotocore) (0.10.0)\n",
      "Requirement already satisfied: multidict<7.0.0,>=6.0.0 in /opt/conda/lib/python3.9/site-packages (from aiobotocore) (6.4.3)\n",
      "Requirement already satisfied: wrapt<2.0.0,>=1.10.10 in /opt/conda/lib/python3.9/site-packages (from aiobotocore) (1.17.2)\n",
      "Requirement already satisfied: aiohappyeyeballs>=2.3.0 in /opt/conda/lib/python3.9/site-packages (from aiohttp<4.0.0,>=3.9.2->aiobotocore) (2.6.1)\n",
      "Requirement already satisfied: aiosignal>=1.1.2 in /opt/conda/lib/python3.9/site-packages (from aiohttp<4.0.0,>=3.9.2->aiobotocore) (1.3.2)\n",
      "Requirement already satisfied: async-timeout<6.0,>=4.0 in /opt/conda/lib/python3.9/site-packages (from aiohttp<4.0.0,>=3.9.2->aiobotocore) (5.0.1)\n",
      "Requirement already satisfied: attrs>=17.3.0 in /opt/conda/lib/python3.9/site-packages (from aiohttp<4.0.0,>=3.9.2->aiobotocore) (23.2.0)\n",
      "Requirement already satisfied: frozenlist>=1.1.1 in /opt/conda/lib/python3.9/site-packages (from aiohttp<4.0.0,>=3.9.2->aiobotocore) (1.6.0)\n",
      "Requirement already satisfied: propcache>=0.2.0 in /opt/conda/lib/python3.9/site-packages (from aiohttp<4.0.0,>=3.9.2->aiobotocore) (0.3.1)\n",
      "Requirement already satisfied: yarl<2.0,>=1.17.0 in /opt/conda/lib/python3.9/site-packages (from aiohttp<4.0.0,>=3.9.2->aiobotocore) (1.20.0)\n",
      "Requirement already satisfied: typing_extensions>=4.0 in /opt/conda/lib/python3.9/site-packages (from aioitertools<1.0.0,>=0.5.1->aiobotocore) (4.13.2)\n",
      "Requirement already satisfied: urllib3<1.27,>=1.25.4 in /opt/conda/lib/python3.9/site-packages (from botocore<1.37.4,>=1.37.2->aiobotocore) (1.26.20)\n",
      "Requirement already satisfied: six>=1.5 in /opt/conda/lib/python3.9/site-packages (from python-dateutil<3.0.0,>=2.1->aiobotocore) (1.17.0)\n",
      "Requirement already satisfied: idna>=2.0 in /opt/conda/lib/python3.9/site-packages (from yarl<2.0,>=1.17.0->aiohttp<4.0.0,>=3.9.2->aiobotocore) (3.10)\n",
      "Downloading aiobotocore-2.22.0-py3-none-any.whl (78 kB)\n",
      "Downloading botocore-1.37.3-py3-none-any.whl (13.3 MB)\n",
      "   ━━━━━━━━━━━━━━━━━━━━━━━━━━━━━━━━━━━━━━━━ 13.3/13.3 MB 134.3 MB/s eta 0:00:00\n",
      "Installing collected packages: botocore, aiobotocore\n",
      "  Attempting uninstall: botocore\n",
      "    Found existing installation: botocore 1.38.25\n",
      "    Uninstalling botocore-1.38.25:\n",
      "      Successfully uninstalled botocore-1.38.25\n",
      "  Attempting uninstall: aiobotocore\n",
      "    Found existing installation: aiobotocore 2.15.2\n",
      "    Uninstalling aiobotocore-2.15.2:\n",
      "      Successfully uninstalled aiobotocore-2.15.2\n",
      "ERROR: pip's dependency resolver does not currently take into account all the packages that are installed. This behaviour is the source of the following dependency conflicts.\n",
      "boto3 1.38.25 requires botocore<1.39.0,>=1.38.25, but you have botocore 1.37.3 which is incompatible.\n",
      "s3transfer 0.13.0 requires botocore<2.0a.0,>=1.37.4, but you have botocore 1.37.3 which is incompatible.\n",
      "Successfully installed aiobotocore-2.22.0 botocore-1.37.3\n",
      "WARNING: Running pip as the 'root' user can result in broken permissions and conflicting behaviour with the system package manager, possibly rendering your system unusable. It is recommended to use a virtual environment instead: https://pip.pypa.io/warnings/venv. Use the --root-user-action option if you know what you are doing and want to suppress this warning.\n",
      "\u001b[36mINFO\u001b[0m[0120] Taking snapshot of full filesystem...        \n",
      "\u001b[36mINFO\u001b[0m[0125] Pushing image to docker-registry.default-tenant.app.cust-cs-il.iguazio-cd0.com/mlrun-project-image-sagemaker-felipe \n",
      "\u001b[36mINFO\u001b[0m[0140] Pushed docker-registry.default-tenant.app.cust-cs-il.iguazio-cd0.com/mlrun-project-image-sagemaker-felipe@sha256:28ffe4087133108039896b23875bf78a5fadc701c30db299aa05bb79447b89eb \n",
      "> 2025-05-29 18:51:50,131 [info] Function is being deleted: {\"function_name\":\"mlrun--project--image--builder\",\"project_name\":\"default\"}\n",
      "> 2025-05-29 18:51:50,153 [info] Function deleted: {\"function_name\":\"mlrun--project--image--builder\",\"project_name\":\"default\"}\n",
      "> 2025-05-29 18:51:50,789 [info] Project loaded successfully: {\"path\":\"./\",\"project_name\":\"sagemaker-felipe\",\"stored_in_db\":true}\n"
     ]
    }
   ],
   "source": [
    "project = mlrun.get_or_create_project(\n",
    "    name=\"sagemaker\", \n",
    "    user_project=True,\n",
    "    parameters={\n",
    "        # \"source\" : \"git://github.com/mlrun/demo-sagemaker#main\",\n",
    "    }\n",
    ")"
   ]
  },
  {
   "cell_type": "code",
   "execution_count": 36,
   "id": "fcb620d5-0697-4860-adc3-2696a9e1fa66",
   "metadata": {},
   "outputs": [],
   "source": [
    "serving_function = project.get_function(\"serving\")"
   ]
  },
  {
   "cell_type": "code",
   "execution_count": 37,
   "id": "e1b53d0c-baee-45f3-be07-6c02af75a6c8",
   "metadata": {},
   "outputs": [
    {
     "data": {
      "image/svg+xml": [
       "<?xml version=\"1.0\" encoding=\"UTF-8\" standalone=\"no\"?>\n",
       "<!DOCTYPE svg PUBLIC \"-//W3C//DTD SVG 1.1//EN\"\n",
       " \"http://www.w3.org/Graphics/SVG/1.1/DTD/svg11.dtd\">\n",
       "<!-- Generated by graphviz version 2.30.1 (20180828.1746)\n",
       " -->\n",
       "<!-- Title: mlrun&#45;flow Pages: 1 -->\n",
       "<svg width=\"370pt\" height=\"44pt\"\n",
       " viewBox=\"0.00 0.00 370.00 44.00\" xmlns=\"http://www.w3.org/2000/svg\" xmlns:xlink=\"http://www.w3.org/1999/xlink\">\n",
       "<g id=\"graph0\" class=\"graph\" transform=\"scale(1 1) rotate(0) translate(4 40)\">\n",
       "<title>mlrun&#45;flow</title>\n",
       "<polygon fill=\"white\" stroke=\"white\" points=\"-4,5 -4,-40 367,-40 367,5 -4,5\"/>\n",
       "<!-- _start -->\n",
       "<g id=\"node1\" class=\"node\"><title>_start</title>\n",
       "<polygon fill=\"lightgrey\" stroke=\"black\" points=\"31.6825,-0.0493367 33.4586,-0.147875 35.2163,-0.295345 36.9484,-0.491342 38.648,-0.735329 40.3083,-1.02664 41.9225,-1.36447 43.4846,-1.7479 44.9886,-2.17587 46.4288,-2.64722 47.8,-3.16064 49.0976,-3.71474 50.3172,-4.308 51.4549,-4.93879 52.5074,-5.60537 53.4717,-6.30593 54.3455,-7.03854 55.1269,-7.80119 55.8146,-8.5918 56.4075,-9.4082 56.9055,-10.2481 57.3085,-11.1093 57.6172,-11.9894 57.8325,-12.886 57.9558,-13.7965 57.989,-14.7186 57.9342,-15.6497 57.7939,-16.5873 57.5711,-17.5287 57.2687,-18.4713 56.89,-19.4127 56.4386,-20.3503 55.9181,-21.2814 55.3324,-22.2035 54.6853,-23.114 53.9807,-24.0106 53.2225,-24.8907 52.4148,-25.7519 51.5613,-26.5918 50.6659,-27.4082 49.7323,-28.1988 48.7639,-28.9615 47.7644,-29.6941 46.7368,-30.3946 45.6844,-31.0612 44.6099,-31.692 43.5161,-32.2853 42.4054,-32.8394 41.2801,-33.3528 40.1423,-33.8241 38.9939,-34.2521 37.8365,-34.6355 36.6717,-34.9734 35.5009,-35.2647 34.3251,-35.5087 33.1455,-35.7047 31.963,-35.8521 30.7786,-35.9507 29.593,-36 28.407,-36 27.2214,-35.9507 26.037,-35.8521 24.8545,-35.7047 23.6749,-35.5087 22.4991,-35.2647 21.3283,-34.9734 20.1635,-34.6355 19.0061,-34.2521 17.8577,-33.8241 16.7199,-33.3528 15.5946,-32.8394 14.4839,-32.2853 13.3901,-31.692 12.3156,-31.0612 11.2632,-30.3946 10.2356,-29.6941 9.23606,-28.9615 8.26774,-28.1988 7.3341,-27.4082 6.43869,-26.5918 5.58521,-25.7519 4.77746,-24.8907 4.01932,-24.0106 3.31472,-23.114 2.66759,-22.2035 2.08185,-21.2814 1.5614,-20.3503 1.11,-19.4127 0.731341,-18.4713 0.428919,-17.5287 0.206051,-16.5873 0.0658181,-15.6497 0.0110351,-14.7186 0.0442151,-13.7965 0.167537,-12.886 0.382814,-11.9894 0.691466,-11.1093 1.09449,-10.2481 1.59245,-9.4082 2.18544,-8.5918 2.87308,-7.80119 3.65449,-7.03854 4.52829,-6.30593 5.49261,-5.60537 6.54507,-4.93879 7.68278,-4.308 8.90236,-3.71474 10.2,-3.16064 11.5712,-2.64722 13.0114,-2.17587 14.5154,-1.7479 16.0775,-1.36447 17.6917,-1.02664 19.352,-0.735329 21.0516,-0.491342 22.7837,-0.295345 24.5414,-0.147875 26.3175,-0.0493367 28.1046,-1.81188e-13 29.8954,-1.84741e-13 31.6825,-0.0493367\"/>\n",
       "<text text-anchor=\"middle\" x=\"29\" y=\"-14.3\" font-family=\"Times,serif\" font-size=\"14.00\">start</text>\n",
       "</g>\n",
       "<!-- xgboost&#45;model -->\n",
       "<g id=\"node2\" class=\"node\"><title>xgboost&#45;model</title>\n",
       "<ellipse fill=\"none\" stroke=\"black\" cx=\"158\" cy=\"-18\" rx=\"63.8893\" ry=\"18\"/>\n",
       "<text text-anchor=\"middle\" x=\"158\" y=\"-14.3\" font-family=\"Times,serif\" font-size=\"14.00\">xgboost&#45;model</text>\n",
       "</g>\n",
       "<!-- _start&#45;&gt;xgboost&#45;model -->\n",
       "<g id=\"edge1\" class=\"edge\"><title>_start&#45;&gt;xgboost&#45;model</title>\n",
       "<path fill=\"none\" stroke=\"black\" d=\"M57.5571,-18C65.4861,-18 74.53,-18 83.8581,-18\"/>\n",
       "<polygon fill=\"black\" stroke=\"black\" points=\"84.0523,-21.5001 94.0523,-18 84.0523,-14.5001 84.0523,-21.5001\"/>\n",
       "</g>\n",
       "<!-- postprocess -->\n",
       "<g id=\"node3\" class=\"node\"><title>postprocess</title>\n",
       "<ellipse fill=\"none\" stroke=\"black\" cx=\"310\" cy=\"-18\" rx=\"51.9908\" ry=\"18\"/>\n",
       "<text text-anchor=\"middle\" x=\"310\" y=\"-14.3\" font-family=\"Times,serif\" font-size=\"14.00\">postprocess</text>\n",
       "</g>\n",
       "<!-- xgboost&#45;model&#45;&gt;postprocess -->\n",
       "<g id=\"edge2\" class=\"edge\"><title>xgboost&#45;model&#45;&gt;postprocess</title>\n",
       "<path fill=\"none\" stroke=\"black\" d=\"M221.744,-18C230.306,-18 239.086,-18 247.622,-18\"/>\n",
       "<polygon fill=\"black\" stroke=\"black\" points=\"247.883,-21.5001 257.883,-18 247.883,-14.5001 247.883,-21.5001\"/>\n",
       "</g>\n",
       "</g>\n",
       "</svg>\n"
      ],
      "text/plain": [
       "<graphviz.graphs.Digraph at 0x7facb0b53c40>"
      ]
     },
     "execution_count": 37,
     "metadata": {},
     "output_type": "execute_result"
    }
   ],
   "source": [
    "# Set the topology and get the graph object:\n",
    "graph = serving_function.set_topology(\"flow\", engine=\"async\")\n",
    "\n",
    "# Add the steps:\n",
    "graph.to(\"XGBModelServer\",\n",
    "         name=\"xgboost-model\",\n",
    "         model_path=xgb.model_data) \\\n",
    "     .to(handler=\"postprocess\", name=\"postprocess\").respond()\n",
    "\n",
    "# Plot to graph:\n",
    "serving_function.plot(rankdir='LR')"
   ]
  },
  {
   "cell_type": "code",
   "execution_count": 38,
   "id": "2963f0b2-5169-4138-aefb-cef8813b0e0e",
   "metadata": {
    "scrolled": true
   },
   "outputs": [
    {
     "name": "stderr",
     "output_type": "stream",
     "text": [
      "Your system has an old version of glibc (< 2.28). We will stop supporting Linux distros with glibc older than 2.28 after **May 31, 2025**. Please upgrade to a recent Linux distro (with glibc >= 2.28) to use future versions of XGBoost.\n",
      "Note: You have installed the 'manylinux2014' variant of XGBoost. Certain features such as GPU algorithms or federated learning are not available. To use these features, please upgrade to a recent Linux distro with glibc 2.28+, and install the 'manylinux_2_28' variant.\n"
     ]
    },
    {
     "name": "stdout",
     "output_type": "stream",
     "text": [
      "> 2025-05-29 18:51:51,633 [info] model xgboost-model was loaded\n",
      "{'id': '5885567e43424ed9a9fdc3b0b4f932eb', 'model_name': 'xgboost-model', 'outputs': [[0.0001946827833307907, 0.4333091080188751, 0.00045870488975197077, 0.429901123046875, 0.0018640152411535382, 0.006989223882555962, 0.022358348593115807, 0.03379629924893379, 0.00020731751283165067, 0.005750253330916166, 0.05224216356873512, 0.00037217975477688015, 0.0003981783229392022, 0.0006151106208562851, 0.000131972148665227, 0.0001632201747270301, 0.00013299261627253145, 0.0048257941380143166, 0.006289314478635788], [0.0011100886622443795, 0.5875383019447327, 0.0003125712973996997, 0.16625414788722992, 0.005176760256290436, 0.060638777911663055, 0.09993327409029007, 0.009868890047073364, 0.0002663227205630392, 0.018568776547908783, 0.046347636729478836, 0.0006216198671609163, 0.0006515536224469543, 0.0013189689489081502, 0.00015808921307325363, 0.00024295855837408453, 0.00015932851238176227, 0.00035576705704443157, 0.0004761788295581937], [0.0005317284958437085, 0.0022104703821241856, 0.007502140011638403, 0.012153043411672115, 0.00030168125522322953, 0.011618255637586117, 0.012567362748086452, 0.0006095745484344661, 0.08191462606191635, 0.023498782888054848, 0.0060724178329110146, 0.7617723941802979, 0.00015540361346211284, 0.006428990047425032, 0.03284324333071709, 0.01013915240764618, 0.0006513612461276352, 0.02784574218094349, 0.0011836151825264096], [0.0001419358013663441, 0.003212342970073223, 0.00047391955740749836, 0.9228078126907349, 5.470182077260688e-05, 0.004626636393368244, 0.012642297893762589, 0.00040855491533875465, 0.0002339010388823226, 0.018251514062285423, 0.0339658185839653, 0.0006640503415837884, 3.241801096010022e-05, 0.0004485025128815323, 0.00016867642989382148, 0.00010918741463683546, 0.000139758616569452, 0.0014181085862219334, 0.00019989241263829172], [0.0005997669650241733, 0.5119339227676392, 0.00013883845531381667, 0.3729463517665863, 6.355482037179172e-05, 0.012985547073185444, 0.038036562502384186, 0.01557828113436699, 0.00016179266094695777, 0.0025550539139658213, 0.04031810536980629, 0.00029597774846479297, 0.0005577859119512141, 0.0002338243939448148, 0.00010792701505124569, 0.000133232053485699, 0.00010876156738959253, 0.0009358596871607006, 0.002308840397745371]], 'timestamp': '2025-05-29 18:51:51.649728+00:00'}\n"
     ]
    }
   ],
   "source": [
    "server = serving_function.to_mock_server()"
   ]
  },
  {
   "cell_type": "code",
   "execution_count": 39,
   "id": "ffa8dda2-ce3d-459c-8a93-f7ebaee7b7f8",
   "metadata": {},
   "outputs": [],
   "source": [
    "samples = test_data.drop('transaction_category',axis=1)[:500].values.tolist()"
   ]
  },
  {
   "cell_type": "code",
   "execution_count": 40,
   "id": "5b1f27eb-a2a0-457e-9291-4b61d40e4d0c",
   "metadata": {
    "scrolled": true
   },
   "outputs": [
    {
     "name": "stdout",
     "output_type": "stream",
     "text": [
      "[1, 1, 11, 3, 1]\n"
     ]
    }
   ],
   "source": [
    "response = server.test(body={\"inputs\": samples[:5]})\n",
    "print(response['predictions'])"
   ]
  },
  {
   "cell_type": "code",
   "execution_count": null,
   "id": "815fd915-e8ff-455a-a16b-dbf470f8d825",
   "metadata": {},
   "outputs": [
    {
     "name": "stdout",
     "output_type": "stream",
     "text": [
      "> 2025-05-29 18:51:51,659 [info] Starting remote function deploy\n",
      "2025-05-29 18:51:52  (info) Deploying function\n",
      "2025-05-29 18:51:52  (info) Building\n",
      "2025-05-29 18:51:52  (info) Staging files and preparing base images\n",
      "2025-05-29 18:51:52  (warn) Using user provided base image, runtime interpreter version is provided by the base image\n",
      "2025-05-29 18:51:52  (info) Building processor image\n"
     ]
    }
   ],
   "source": [
    "project.deploy_function(\"serving\")"
   ]
  },
  {
   "cell_type": "code",
   "execution_count": null,
   "id": "0bd727dc-7243-4d0c-94b7-91dcaeca3fae",
   "metadata": {},
   "outputs": [],
   "source": [
    "response = serving_function.invoke(path='/predict', body={\"inputs\": samples})"
   ]
  },
  {
   "cell_type": "code",
   "execution_count": null,
   "id": "b6e22e08-9fa3-4fc9-a084-652edf9fdfb7",
   "metadata": {},
   "outputs": [],
   "source": [
    "print(response['predictions'][:10])"
   ]
  },
  {
   "cell_type": "markdown",
   "id": "7a93919f-da79-455c-a8c2-eab5deece6d9",
   "metadata": {},
   "source": [
    "### 6. Evaluate performance <a class=\"anchor\" id=\"Evaluate-performance\"></a>\n",
    "\n",
    "Run the model on our test data"
   ]
  },
  {
   "cell_type": "code",
   "execution_count": null,
   "id": "6b6a92c2-09f2-4e4a-9c3a-1c005e231d1b",
   "metadata": {},
   "outputs": [],
   "source": [
    "s3_data = \"s3://{}/{}/test/test.csv\".format(s3_bucket, bucket_prefix)"
   ]
  },
  {
   "cell_type": "code",
   "execution_count": null,
   "id": "84c6a5b7",
   "metadata": {},
   "outputs": [],
   "source": [
    "evaluate_function = project.get_function(\"evaluate\")"
   ]
  },
  {
   "cell_type": "code",
   "execution_count": null,
   "id": "cdb2def1-c771-4757-a581-41c0014f2678",
   "metadata": {},
   "outputs": [],
   "source": [
    "xgb.model_data"
   ]
  },
  {
   "cell_type": "code",
   "execution_count": null,
   "id": "fe92026c-c9e3-4e06-8b75-894db62f8f6a",
   "metadata": {},
   "outputs": [],
   "source": [
    "s3_data"
   ]
  },
  {
   "cell_type": "code",
   "execution_count": null,
   "id": "62b14992-24db-4be2-bcb3-dbd115fa7544",
   "metadata": {
    "scrolled": true
   },
   "outputs": [],
   "source": [
    "evaluate_run = evaluate_function.run(\n",
    "    handler=\"evaluate\",\n",
    "    params={\n",
    "        \"model_path\": xgb.model_data,\n",
    "        \"model_name\": \"xgboost-model\",\n",
    "        \"test_set\": s3_data,\n",
    "        \"label_column\": \"transaction_category\",\n",
    "        \"factorize_key\": factorize_key,\n",
    "    },\n",
    "    returns=[\"classification_report: dataset\"])"
   ]
  },
  {
   "cell_type": "code",
   "execution_count": null,
   "id": "a40da196-0ee8-4ac6-9f7b-bea35ab181c9",
   "metadata": {},
   "outputs": [],
   "source": [
    "evaluate_run.artifact(\"classification_report\").as_df()"
   ]
  },
  {
   "attachments": {},
   "cell_type": "markdown",
   "id": "98d0b67e",
   "metadata": {},
   "source": [
    "You should see results similar to this:\n",
    "\n",
    "```\n",
    "                        precision    recall  f1-score   support\n",
    "\n",
    "         Uncategorized       1.00      0.92      0.96        51\n",
    "         Entertainment       0.81      0.89      0.85      1486\n",
    "             Education       1.00      0.94      0.97        80\n",
    "              Shopping       0.86      0.94      0.90      3441\n",
    "         Personal Care       1.00      0.98      0.99       132\n",
    "    Health and Fitness       0.99      0.89      0.94       443\n",
    "       Food and Dining       0.99      0.82      0.90       918\n",
    "   Gifts and Donations       1.00      0.95      0.97       275\n",
    "           Investments       0.99      0.97      0.98        88\n",
    "   Bills and Utilities       1.00      0.99      1.00       332\n",
    "    Auto and Transport       0.94      0.84      0.88      1967\n",
    "                Travel       0.96      0.84      0.90       120\n",
    "      Fees and Charges       1.00      0.94      0.97       106\n",
    "     Business Services       1.00      0.99      1.00       146\n",
    "     Personal Services       1.00      0.96      0.98        75\n",
    "                 Taxes       0.98      0.94      0.96        47\n",
    "              Gambling       1.00      1.00      1.00        15\n",
    "                  Home       0.98      0.89      0.93       168\n",
    "Pension and insurances       0.99      1.00      1.00       110\n",
    "\n",
    "              accuracy                           0.90     10000\n",
    "             macro avg       0.97      0.93      0.95     10000\n",
    "          weighted avg       0.91      0.90      0.90     10000\n",
    "```"
   ]
  },
  {
   "attachments": {},
   "cell_type": "markdown",
   "id": "49fdc82d",
   "metadata": {},
   "source": [
    "### 7. Clean up <a class=\"anchor\" id=\"Clean-up\"></a>\n",
    "\n",
    "Remove the feature group and endpoint to clean up"
   ]
  },
  {
   "cell_type": "code",
   "execution_count": null,
   "id": "f79b1164",
   "metadata": {},
   "outputs": [],
   "source": [
    "feature_group.delete()\n",
    "# xgb_predictor.delete_endpoint(delete_endpoint_config=True)"
   ]
  },
  {
   "cell_type": "code",
   "execution_count": null,
   "id": "a4142591-d249-45f6-a9fb-99bc39abc60c",
   "metadata": {},
   "outputs": [],
   "source": []
  }
 ],
 "metadata": {
  "instance_type": "ml.t3.medium",
  "kernelspec": {
   "display_name": "conda_python3",
   "language": "python",
   "name": "conda_python3"
  },
  "language_info": {
   "codemirror_mode": {
    "name": "ipython",
    "version": 3
   },
   "file_extension": ".py",
   "mimetype": "text/x-python",
   "name": "python",
   "nbconvert_exporter": "python",
   "pygments_lexer": "ipython3",
   "version": "3.10.17"
  }
 },
 "nbformat": 4,
 "nbformat_minor": 5
}
